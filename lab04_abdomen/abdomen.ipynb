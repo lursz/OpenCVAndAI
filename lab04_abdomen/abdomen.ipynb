{
 "cells": [
  {
   "cell_type": "markdown",
   "metadata": {},
   "source": [
    "# Imports"
   ]
  },
  {
   "cell_type": "code",
   "execution_count": 16,
   "metadata": {},
   "outputs": [],
   "source": [
    "import torch\n",
    "import torch.nn as nn\n",
    "import torchvision\n",
    "from torchvision import models\n",
    "from torch.utils.data import Dataset, DataLoader\n",
    "from torch.optim.optimizer import Optimizer\n",
    "from torchvision.models import DenseNet121_Weights\n",
    "from tqdm import tqdm\n",
    "\n",
    "import numpy as np\n",
    "import matplotlib.pyplot as plt\n",
    "import cv2\n",
    "import os\n",
    "import datetime\n",
    "from sklearn.metrics import f1_score\n",
    "from PIL import Image\n",
    "import nibabel as nib\n",
    "\n",
    "device = torch.device(\"cuda\" if torch.cuda.is_available() else \"cpu\")"
   ]
  },
  {
   "cell_type": "markdown",
   "metadata": {},
   "source": [
    "# Visualisation"
   ]
  },
  {
   "cell_type": "code",
   "execution_count": 17,
   "metadata": {},
   "outputs": [],
   "source": [
    "def plot_graph(data):\n",
    "    num_charts = len(data)\n",
    "    ncols = 4\n",
    "    nrows = (num_charts + ncols - 1) // ncols\n",
    "\n",
    "    fig, axes = plt.subplots(nrows=nrows, ncols=ncols, figsize=(ncols * 4, nrows * 3))\n",
    "    axes = axes.flatten()\n",
    "\n",
    "    for i, sublist in enumerate(data):\n",
    "        sublist_data, start, end, filename = sublist\n",
    "        x_indices = range(len(sublist_data))\n",
    "        \n",
    "        # Plot on the current axis\n",
    "        axes[i].bar(x_indices, sublist_data, color='blue', alpha=0.7)\n",
    "        # axes[i].axvline(x=start, color='red', linestyle='-', linewidth=1.5, label='Start')\n",
    "        # axes[i].axvline(x=end, color='red', linestyle='-', linewidth=1.5, label='End')\n",
    "        \n",
    "        axes[i].set_title(f'{filename}', fontsize=12)\n",
    "        axes[i].set_xlabel('Index', fontsize=10)\n",
    "        axes[i].set_ylabel('Value', fontsize=10)\n",
    "\n",
    "    for j in range(i + 1, len(axes)):\n",
    "        axes[j].axis('off')\n",
    "\n",
    "    plt.tight_layout()\n",
    "    plt.show()\n",
    "\n",
    "\n",
    "def view_nii_pic(nii_data: np.ndarray) -> None:\n",
    "    for i in range(nii_data.shape[2]):\n",
    "        cv2.imshow('slice', nii_data[:, :, i])\n",
    "        cv2.waitKey(0)\n",
    "    cv2.destroyAllWindows()\n",
    "    \n",
    "def visualize_photo(img: np.ndarray, photo_title: str, *slices: int) -> None:\n",
    "    print(f\"Visualizing {photo_title}\")\n",
    "    plt.figure(figsize=(5 * len(slices), 5)) \n",
    "    \n",
    "    for i, slice_num in enumerate(slices):\n",
    "        plt.subplot(1, len(slices), i + 1)\n",
    "        plt.title(f\"photo Slice {slice_num}\")\n",
    "        plt.imshow(img[:, :, slice_num], cmap=\"gray\")\n",
    "        \n",
    "    plt.tight_layout() \n",
    "    plt.show()\n",
    "  \n",
    "    \n",
    "def visualize_photos(original: np.ndarray, segmented: np.ndarray, reference: np.ndarray, *slices: int) -> None:\n",
    "    num_slices = len(slices)\n",
    "    plt.figure(figsize=(15, 5 * num_slices))  # Adjust figure size based on the number of slices\n",
    "\n",
    "    for i, slice_num in enumerate(slices):\n",
    "        # Original slice\n",
    "        plt.subplot(num_slices, 3, 3 * i + 1)\n",
    "        plt.title(f\"Original Slice {slice_num}\")\n",
    "        plt.imshow(original[:, :, slice_num], cmap=\"gray\")\n",
    "        \n",
    "        # Segmented slice\n",
    "        plt.subplot(num_slices, 3, 3 * i + 2)\n",
    "        plt.title(f\"Segmented Slice {slice_num}\")\n",
    "        plt.imshow(segmented[:, :, slice_num], cmap=\"gray\")\n",
    "        \n",
    "        # Reference slice\n",
    "        plt.subplot(num_slices, 3, 3 * i + 3)\n",
    "        plt.title(f\"Reference Slice {slice_num}\")\n",
    "        plt.imshow(reference[:, :, slice_num], cmap=\"gray\")\n",
    "\n",
    "    plt.tight_layout() \n",
    "    plt.show()\n",
    "    \n",
    "def plot_histogram(img: np.ndarray) -> None:\n",
    "    plt.hist(img.ravel(), bins=256, range=(img.min()+1, img.max()-1), fc='k', ec='k')\n",
    "    plt.axvline(x=-320, color='red', linestyle='--', linewidth=1.5)\n",
    "    plt.show()"
   ]
  },
  {
   "cell_type": "markdown",
   "metadata": {},
   "source": [
    "# Dataset"
   ]
  },
  {
   "cell_type": "code",
   "execution_count": 18,
   "metadata": {},
   "outputs": [],
   "source": [
    "class AbdomenDataset(Dataset):\n",
    "    def __init__(self, filepath: str, label_filepath: str, transform=None):\n",
    "        self.transform = transform\n",
    "        self.data: list = self._load_nii_gz_files(filepath)\n",
    "        self.labels: list = self._load_labels_file(label_filepath)\n",
    "        \n",
    "        self.frames_list: list = []\n",
    "        self.labels_list: list = []\n",
    "        \n",
    "        self.positive_count = 0\n",
    "        \n",
    "        for file_name, img in self.data:\n",
    "            print(f\"loading {file_name}\")\n",
    "            end, begin = self.labels[file_name]\n",
    "            for i in range(0, img.shape[2]):\n",
    "                self.frames_list.append(img[:, :, i])\n",
    "                self.labels_list.append(1 if begin <= i <= end else 0)\n",
    "                self.positive_count += self.labels_list[-1]\n",
    "                \n",
    "        print(f\"Loaded {len(self.frames_list)} frames\")\n",
    "        \n",
    "    def __len__(self) -> int:\n",
    "        return len(self.frames_list)\n",
    "    \n",
    "    def __getitem__(self, idx: int) -> dict:\n",
    "        img = self.frames_list[idx]\n",
    "        label = float(self.labels_list[idx])\n",
    "        \n",
    "        img = torch.tensor(img).float().unsqueeze(0)\n",
    "        img = self.transform(img)            \n",
    "        return img.repeat(3, 1, 1), label\n",
    "        \n",
    "        \n",
    "    def _load_labels_file(self, label_filepath: str) -> dict:\n",
    "        labels: list = {}\n",
    "        with open(label_filepath, 'r') as file:\n",
    "            for line in file:\n",
    "                file_name, end, begin = line.split()\n",
    "                labels[file_name] = (int(end), int(begin))\n",
    "        return labels\n",
    "    \n",
    "    def _load_nii_gz_files(self, filepath) -> list:\n",
    "        data: list = []\n",
    "        for file_name in os.listdir(filepath):\n",
    "            if file_name.endswith('.nii.gz'):\n",
    "                file_path = os.path.join(filepath, file_name)\n",
    "                nii_img = nib.load(file_path)\n",
    "                nii_data = nii_img.get_fdata()  # img as numpy array\n",
    "                data.append((file_name, nii_data))\n",
    "        return data\n",
    "    \n",
    "    \n",
    "class AbdomenSingleDataset(Dataset):\n",
    "    def __init__(self, filepath: str, filename: str, transform=None):\n",
    "        self.transform = transform\n",
    "        self.original_img: list = self._load_file(filepath, filename)\n",
    "        self.frames_list: list = [self.original_img[:, :, i] for i in range(self.original_img.shape[2])]\n",
    "        print(f\"Loaded {len(self.frames_list)} frames\")\n",
    "        \n",
    "    def __len__(self) -> int:\n",
    "        return len(self.frames_list)\n",
    "    \n",
    "    def __getitem__(self, idx: int) -> dict:\n",
    "        img = self.frames_list[idx]\n",
    "        img = torch.tensor(img).float().unsqueeze(0)\n",
    "        img = self.transform(img)            \n",
    "        return img.repeat(3, 1, 1)\n",
    "    \n",
    "    def _load_file(self, filepath: str, filename: str) -> list:   \n",
    "        f = os.path.join(filepath, filename)\n",
    "        nii_img = nib.load(f)\n",
    "        nii_data = nii_img.get_fdata()\n",
    "        return nii_data\n",
    "    "
   ]
  },
  {
   "cell_type": "markdown",
   "metadata": {},
   "source": [
    "# Model"
   ]
  },
  {
   "cell_type": "code",
   "execution_count": 19,
   "metadata": {},
   "outputs": [],
   "source": [
    "class AbdomenModel(nn.Module):\n",
    "    def __init__(self) -> None:\n",
    "        super(AbdomenModel, self).__init__()\n",
    "        self.densenet = models.densenet121(weights=DenseNet121_Weights.DEFAULT)\n",
    "        self.freeze_densenet()\n",
    "        self.densenet.classifier = nn.Sequential(\n",
    "            nn.Dropout(0.25),\n",
    "            nn.Linear(self.densenet.classifier.in_features, 1)\n",
    "        )\n",
    "        self.sigmoid = nn.Sigmoid()\n",
    "        \n",
    "    def predict(self, x):\n",
    "        x = self(x)\n",
    "        return self.sigmoid(x)\n",
    "    \n",
    "    def forward(self, x):\n",
    "        return self.densenet(x)\n",
    "    \n",
    "    def unfreeze_densenet(self) -> None:\n",
    "        for param in self.densenet.parameters():\n",
    "            param.requires_grad = True\n",
    "    \n",
    "    def freeze_densenet(self) -> None:\n",
    "        for param in self.densenet.parameters():\n",
    "            param.requires_grad = False"
   ]
  },
  {
   "cell_type": "markdown",
   "metadata": {},
   "source": [
    "# Training loop"
   ]
  },
  {
   "cell_type": "code",
   "execution_count": 20,
   "metadata": {},
   "outputs": [],
   "source": [
    "def training_loop(model: AbdomenModel, criterion: torch.nn.Module, optimizer: Optimizer, dataloader: dict, EPOCHS: int = 10):\n",
    "    accuracy_history: list = []\n",
    "    loss_history: list = []\n",
    "    val_accuracy_history: list = []\n",
    "    val_loss_history: list = []\n",
    "    \n",
    "    sigm = nn.Sigmoid()\n",
    "    \n",
    "    for epoch in range(EPOCHS):    \n",
    "        # Training\n",
    "        model.train()\n",
    "        running_loss = 0.0\n",
    "        correct = 0\n",
    "        total = 0\n",
    "        for data in tqdm(dataloader['train']):\n",
    "            inputs, labels = data\n",
    "            inputs, labels = inputs.to(device), labels.to(device).float()\n",
    "            \n",
    "            optimizer.zero_grad()\n",
    "            outputs = model(inputs).squeeze(dim=-1)\n",
    "            outputs_sigm = sigm(outputs)\n",
    "            \n",
    "            loss = criterion(outputs, labels)\n",
    "            \n",
    "            loss.backward()\n",
    "            optimizer.step()\n",
    "            \n",
    "            running_loss += loss.item()\n",
    "            preds = (outputs_sigm > 0.5).float()\n",
    "            correct += (preds == labels).sum().item()\n",
    "            total += labels.size(0)\n",
    "        \n",
    "        train_loss = running_loss / len(dataloader['train'])\n",
    "        train_accuracy = correct / total\n",
    "        loss_history.append(train_loss)\n",
    "        accuracy_history.append(train_accuracy)\n",
    "        \n",
    "        # Validation\n",
    "        model.eval()\n",
    "        val_loss = 0.0\n",
    "        val_correct = 0\n",
    "        val_total = 0\n",
    "        with torch.no_grad():\n",
    "            for data in tqdm(dataloader['val']):\n",
    "                inputs, labels = data\n",
    "                inputs, labels = inputs.to(device), labels.to(device).float()\n",
    "                \n",
    "                outputs = model(inputs).squeeze(dim=-1)\n",
    "                outputs_sigm = sigm(outputs)\n",
    "            \n",
    "                loss = criterion(outputs, labels)\n",
    "                \n",
    "                val_loss += loss.item()\n",
    "                preds = (outputs_sigm > 0.5).float()\n",
    "                val_correct += (preds == labels).sum().item()\n",
    "                val_total += labels.size(0)\n",
    "        \n",
    "        val_loss = val_loss / len(dataloader['val'])\n",
    "        val_accuracy = val_correct / val_total\n",
    "        val_loss_history.append(val_loss)\n",
    "        val_accuracy_history.append(val_accuracy)\n",
    "        \n",
    "        print(f\"Epoch {epoch + 1}, Train Loss: {train_loss:.4f}, Train Acc: {train_accuracy:.4f}, Val Loss: {val_loss:.4f}, Val Acc: {val_accuracy:.4f}\")\n",
    "        \n",
    "    return model, [accuracy_history, loss_history, val_accuracy_history, val_loss_history]"
   ]
  },
  {
   "cell_type": "markdown",
   "metadata": {},
   "source": [
    "# Train"
   ]
  },
  {
   "cell_type": "code",
   "execution_count": null,
   "metadata": {},
   "outputs": [],
   "source": [
    "transform_val = torchvision.transforms.Compose([\n",
    "    lambda x: (x + 1024) / 3072,\n",
    "    torchvision.transforms.Resize((224, 224)),\n",
    "    torchvision.transforms.Normalize(mean=[0.5], std=[0.5])\n",
    "])\n",
    "\n",
    "transform = torchvision.transforms.Compose([\n",
    "    lambda x: (x + 1024) / 3072,\n",
    "    torchvision.transforms.Resize((224, 224)),\n",
    "    torchvision.transforms.RandomHorizontalFlip(),\n",
    "    torchvision.transforms.RandomVerticalFlip(),\n",
    "    torchvision.transforms.RandomRotation(40),\n",
    "    torchvision.transforms.RandomAffine(0, translate=(0.1, 0.1), scale=(0.9, 2)),\n",
    "    torchvision.transforms.Normalize(mean=[0.5], std=[0.5])\n",
    "])\n",
    "\n",
    "datasets = {\n",
    "    \"train\": AbdomenDataset('data/train', 'data/oznaczenia.txt', transform=transform),\n",
    "    \"val\": AbdomenDataset('data/val', 'data/oznaczenia.txt', transform=transform_val),\n",
    "}\n",
    "\n",
    "dataloaders = {\n",
    "    \"train\": DataLoader(datasets[\"train\"], batch_size=8, shuffle=True),\n",
    "    \"val\": DataLoader(datasets[\"val\"], batch_size=8, shuffle=True),\n",
    "}"
   ]
  },
  {
   "cell_type": "code",
   "execution_count": null,
   "metadata": {},
   "outputs": [],
   "source": [
    "scaling_weight = (len(datasets['train']) - datasets['train'].positive_count) / datasets['train'].positive_count\n",
    "\n",
    "model = AbdomenModel().to(device)\n",
    "criterion = nn.BCEWithLogitsLoss(pos_weight=torch.tensor([scaling_weight], device=device))\n",
    "optimizer = torch.optim.Adam(model.parameters(), lr=0.001)"
   ]
  },
  {
   "cell_type": "code",
   "execution_count": null,
   "metadata": {},
   "outputs": [],
   "source": [
    "model, history = training_loop(model, criterion, optimizer, dataloaders, EPOCHS=5)\n",
    "model.unfreeze_densenet()\n",
    "model, history = training_loop(model, criterion, optimizer, dataloaders, EPOCHS=7)\n",
    "torch.save(model.state_dict(), f\"results/model_{datetime.datetime.now().strftime('%Y-%m-%d_%H-%M-%S')}_{max(history[2])}.pt\")"
   ]
  },
  {
   "cell_type": "markdown",
   "metadata": {},
   "source": [
    "# Test"
   ]
  },
  {
   "cell_type": "markdown",
   "metadata": {},
   "source": [
    "## Select Abdomen Algorithm"
   ]
  },
  {
   "cell_type": "code",
   "execution_count": 25,
   "metadata": {},
   "outputs": [],
   "source": [
    "def select_window_of_abdomen(list_of_probabilities: list) -> tuple[int, int]:\n",
    "    epsilon = 1e-10\n",
    "    log_proba = np.log(np.clip(list_of_probabilities, epsilon, 1))\n",
    "    log_proba_rev = np.log(np.clip(1 - np.array(list_of_probabilities), epsilon, 1))\n",
    "    \n",
    "    best_begin = 0\n",
    "    best_end = 0\n",
    "    best_value = -np.inf\n",
    "    \n",
    "    for start in range(len(list_of_probabilities)):\n",
    "        for end in range(start, len(list_of_probabilities)):\n",
    "            sum_log = np.sum(log_proba[start:end+1])\n",
    "            sum_rev_rest = np.sum(log_proba_rev[end + 1:]) + np.sum(log_proba_rev[:start])\n",
    "            value = sum_log + sum_rev_rest\n",
    "            \n",
    "            if value > best_value:\n",
    "                best_value = value\n",
    "                best_begin = start\n",
    "                best_end = end\n",
    "                \n",
    "    return best_begin, best_end\n",
    "    \n",
    "\n",
    "def naive_select_abdomen_window(list_of_probabilities: list) -> tuple[int, int]:\n",
    "    size = 30\n",
    "    \n",
    "    max_value = float('-inf')\n",
    "    left, right = 0, size\n",
    "    \n",
    "    for i in range(len(list_of_probabilities) - size):\n",
    "        value = sum(list_of_probabilities[i:i + size])\n",
    "        if value > max_value:\n",
    "            max_value = value\n",
    "            left, right = i, i + size\n",
    "            \n",
    "    return left, right\n",
    "    "
   ]
  },
  {
   "cell_type": "markdown",
   "metadata": {},
   "source": [
    "## Load data"
   ]
  },
  {
   "cell_type": "code",
   "execution_count": 26,
   "metadata": {},
   "outputs": [],
   "source": [
    "def create_dataloaders(filepath: str) -> list:\n",
    "    \n",
    "    transform_val = torchvision.transforms.Compose([\n",
    "    lambda x: (x + 1024) / 3072,\n",
    "    torchvision.transforms.Resize((224, 224)),\n",
    "    torchvision.transforms.Normalize(mean=[0.5], std=[0.5])\n",
    "])\n",
    "\n",
    "    dataloaders: list = []\n",
    "    for file_name in os.listdir(filepath):\n",
    "        if file_name.endswith('.nii.gz'):\n",
    "            dataloader = DataLoader(AbdomenSingleDataset(filepath, file_name, transform=transform_val))\n",
    "            dataloaders.append((dataloader, file_name))\n",
    "    \n",
    "    return dataloaders\n",
    "\n",
    "def load_labeled_scores(label_filepath: str) -> dict:\n",
    "        labels: list = {}\n",
    "        with open(label_filepath, 'r') as file:\n",
    "            for line in file:\n",
    "                file_name, end, begin = line.split()\n",
    "                labels[file_name] = (int(end), int(begin))\n",
    "        return labels"
   ]
  },
  {
   "cell_type": "markdown",
   "metadata": {},
   "source": [
    "## Run to evaluate all scores"
   ]
  },
  {
   "cell_type": "code",
   "execution_count": 27,
   "metadata": {},
   "outputs": [],
   "source": [
    "def evaluate_model(filepath: str) -> list:\n",
    "    model_path = 'results/model_2024-12-11_11-12-01_0.9933460076045627.pt'\n",
    "    model = AbdomenModel().to(device)\n",
    "    model.load_state_dict(torch.load(model_path, map_location=device))\n",
    "    model.eval()\n",
    "    \n",
    "    sigm = nn.Sigmoid()\n",
    "    outputs = []\n",
    "    dataloaders = create_dataloaders(filepath)\n",
    "\n",
    "    for dataloader, file_name in dataloaders:\n",
    "        dl_output = []\n",
    "        for data in tqdm(dataloader):\n",
    "            inputs = data\n",
    "            inputs = inputs.to(device)\n",
    "            fragment_outputs = model(inputs).squeeze(dim=-1)\n",
    "            fragment_outputs_sigm = sigm(fragment_outputs)\n",
    "            dl_output.append(fragment_outputs_sigm.tolist()[0])\n",
    "        \n",
    "        outputs.append((dl_output, file_name))\n",
    "    \n",
    "    return outputs"
   ]
  },
  {
   "cell_type": "code",
   "execution_count": 28,
   "metadata": {},
   "outputs": [
    {
     "name": "stderr",
     "output_type": "stream",
     "text": [
      "/tmp/ipykernel_1380/4215286586.py:4: FutureWarning: You are using `torch.load` with `weights_only=False` (the current default value), which uses the default pickle module implicitly. It is possible to construct malicious pickle data which will execute arbitrary code during unpickling (See https://github.com/pytorch/pytorch/blob/main/SECURITY.md#untrusted-models for more details). In a future release, the default value for `weights_only` will be flipped to `True`. This limits the functions that could be executed during unpickling. Arbitrary objects will no longer be allowed to be loaded via this mode unless they are explicitly allowlisted by the user via `torch.serialization.add_safe_globals`. We recommend you start setting `weights_only=True` for any use case where you don't have full control of the loaded file. Please open an issue on GitHub for any issues related to this experimental feature.\n",
      "  model.load_state_dict(torch.load(model_path, map_location=device))\n"
     ]
    },
    {
     "name": "stdout",
     "output_type": "stream",
     "text": [
      "Loaded 57 frames\n",
      "Loaded 54 frames\n",
      "Loaded 56 frames\n",
      "Loaded 57 frames\n",
      "Loaded 53 frames\n",
      "Loaded 174 frames\n",
      "Loaded 57 frames\n",
      "Loaded 98 frames\n",
      "Loaded 48 frames\n",
      "Loaded 53 frames\n"
     ]
    },
    {
     "name": "stderr",
     "output_type": "stream",
     "text": [
      "100%|██████████| 57/57 [00:01<00:00, 34.65it/s]\n",
      "100%|██████████| 54/54 [00:01<00:00, 38.85it/s]\n",
      "100%|██████████| 56/56 [00:01<00:00, 39.57it/s]\n",
      "100%|██████████| 57/57 [00:01<00:00, 38.32it/s]\n",
      "100%|██████████| 53/53 [00:01<00:00, 37.66it/s]\n",
      "100%|██████████| 174/174 [00:04<00:00, 38.78it/s]\n",
      "100%|██████████| 57/57 [00:01<00:00, 39.49it/s]\n",
      "100%|██████████| 98/98 [00:02<00:00, 40.91it/s]\n",
      "100%|██████████| 48/48 [00:01<00:00, 43.69it/s]\n",
      "100%|██████████| 53/53 [00:01<00:00, 41.09it/s]\n"
     ]
    }
   ],
   "source": [
    "labeled_scores = load_labeled_scores('data/test/ranges.txt')\n",
    "calculated_outputs = evaluate_model('data/test')"
   ]
  },
  {
   "cell_type": "code",
   "execution_count": 29,
   "metadata": {},
   "outputs": [
    {
     "name": "stdout",
     "output_type": "stream",
     "text": [
      "start: 42, end: 24, label_start: 49, label_end: 30\n",
      "5.nii.gz score: 13\n",
      "start: 46, end: 21, label_start: 47, label_end: 25\n",
      "0.nii.gz score: 5\n",
      "start: 45, end: 24, label_start: 46, label_end: 24\n",
      "1.nii.gz score: 1\n",
      "start: 45, end: 26, label_start: 46, label_end: 26\n",
      "7.nii.gz score: 1\n",
      "start: 39, end: 21, label_start: 46, label_end: 22\n",
      "2.nii.gz score: 8\n",
      "start: 83, end: 40, label_start: 86, label_end: 43\n",
      "3.nii.gz score: 6\n",
      "start: 44, end: 18, label_start: 44, label_end: 21\n",
      "9.nii.gz score: 3\n",
      "start: 89, end: 65, label_start: 87, label_end: 66\n",
      "8.nii.gz score: 3\n",
      "start: 34, end: 19, label_start: 38, label_end: 19\n",
      "4.nii.gz score: 4\n",
      "start: 43, end: 20, label_start: 43, label_end: 21\n",
      "6.nii.gz score: 1\n",
      "=== Mean score: 4.5 ===\n"
     ]
    }
   ],
   "source": [
    "scores: list[int] = []\n",
    "for output, file_name in calculated_outputs:\n",
    "    label_end, label_start = labeled_scores[file_name]\n",
    "    end, start = select_window_of_abdomen(output)\n",
    "    print(f\"start: {start}, end: {end}, label_start: {label_start}, label_end: {label_end}\")\n",
    "    score = abs(start - label_start) + abs(end - label_end)\n",
    "    scores.append(score)\n",
    "    print(f\"{file_name} score: {score}\")\n",
    "    \n",
    "print(f\"=== Mean score: {np.mean(scores)} ===\")\n"
   ]
  },
  {
   "cell_type": "markdown",
   "metadata": {},
   "source": [
    "## Plot results"
   ]
  },
  {
   "cell_type": "code",
   "execution_count": 30,
   "metadata": {},
   "outputs": [
    {
     "data": {
      "image/png": "[encoded data removed]",
      "text/plain": [
       "<Figure size 1600x900 with 12 Axes>"
      ]
     },
     "metadata": {},
     "output_type": "display_data"
    }
   ],
   "source": [
    "plot_data = [(calculated_outputs[i][0], labeled_scores[calculated_outputs[i][1]][1], labeled_scores[calculated_outputs[i][1]][0], calculated_outputs[i][1]) for i in range(len(calculated_outputs))]\n",
    "plot_graph(plot_data)"
   ]
  }
 ],
 "metadata": {
  "kernelspec": {
   "display_name": ".venv",
   "language": "python",
   "name": "python3"
  },
  "language_info": {
   "codemirror_mode": {
    "name": "ipython",
    "version": 3
   },
   "file_extension": ".py",
   "mimetype": "text/x-python",
   "name": "python",
   "nbconvert_exporter": "python",
   "pygments_lexer": "ipython3",
   "version": "3.12.2"
  }
 },
 "nbformat": 4,
 "nbformat_minor": 2
}
