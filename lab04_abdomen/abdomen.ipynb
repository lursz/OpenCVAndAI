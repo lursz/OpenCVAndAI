{
 "cells": [
  {
   "cell_type": "markdown",
   "metadata": {},
   "source": [
    "# Imports"
   ]
  },
  {
   "cell_type": "code",
   "execution_count": null,
   "metadata": {},
   "outputs": [],
   "source": [
    "import torch\n",
    "import torch.nn as nn\n",
    "import torchvision\n",
    "from torchvision import models\n",
    "from torch.utils.data import Dataset, DataLoader\n",
    "from torch.optim.optimizer import Optimizer\n",
    "from torchvision.models import DenseNet121_Weights\n",
    "from tqdm import tqdm\n",
    "\n",
    "import numpy as np\n",
    "import matplotlib.pyplot as plt\n",
    "import cv2\n",
    "import os\n",
    "import datetime\n",
    "from sklearn.metrics import f1_score\n",
    "from PIL import Image\n",
    "import nibabel as nib\n",
    "\n",
    "device = torch.device(\"cuda\" if torch.cuda.is_available() else \"cpu\")"
   ]
  },
  {
   "cell_type": "markdown",
   "metadata": {},
   "source": [
    "# Visualisation"
   ]
  },
  {
   "cell_type": "code",
   "execution_count": null,
   "metadata": {},
   "outputs": [],
   "source": [
    "def view_nii_pic(nii_data: np.ndarray) -> None:\n",
    "    for i in range(nii_data.shape[2]):\n",
    "        cv2.imshow('slice', nii_data[:, :, i])\n",
    "        cv2.waitKey(0)\n",
    "    cv2.destroyAllWindows()\n",
    "    \n",
    "def visualize_photo(img: np.ndarray, photo_title: str, *slices: int) -> None:\n",
    "    print(f\"Visualizing {photo_title}\")\n",
    "    plt.figure(figsize=(5 * len(slices), 5)) \n",
    "    \n",
    "    for i, slice_num in enumerate(slices):\n",
    "        plt.subplot(1, len(slices), i + 1)\n",
    "        plt.title(f\"photo Slice {slice_num}\")\n",
    "        plt.imshow(img[:, :, slice_num], cmap=\"gray\")\n",
    "        \n",
    "    plt.tight_layout() \n",
    "    plt.show()\n",
    "  \n",
    "    \n",
    "def visualize_photos(original: np.ndarray, segmented: np.ndarray, reference: np.ndarray, *slices: int) -> None:\n",
    "    num_slices = len(slices)\n",
    "    plt.figure(figsize=(15, 5 * num_slices))  # Adjust figure size based on the number of slices\n",
    "\n",
    "    for i, slice_num in enumerate(slices):\n",
    "        # Original slice\n",
    "        plt.subplot(num_slices, 3, 3 * i + 1)\n",
    "        plt.title(f\"Original Slice {slice_num}\")\n",
    "        plt.imshow(original[:, :, slice_num], cmap=\"gray\")\n",
    "        \n",
    "        # Segmented slice\n",
    "        plt.subplot(num_slices, 3, 3 * i + 2)\n",
    "        plt.title(f\"Segmented Slice {slice_num}\")\n",
    "        plt.imshow(segmented[:, :, slice_num], cmap=\"gray\")\n",
    "        \n",
    "        # Reference slice\n",
    "        plt.subplot(num_slices, 3, 3 * i + 3)\n",
    "        plt.title(f\"Reference Slice {slice_num}\")\n",
    "        plt.imshow(reference[:, :, slice_num], cmap=\"gray\")\n",
    "\n",
    "    plt.tight_layout() \n",
    "    plt.show()\n",
    "    \n",
    "def plot_histogram(img: np.ndarray) -> None:\n",
    "    plt.hist(img.ravel(), bins=256, range=(img.min()+1, img.max()-1), fc='k', ec='k')\n",
    "    plt.axvline(x=-320, color='red', linestyle='--', linewidth=1.5)\n",
    "    plt.show()"
   ]
  },
  {
   "cell_type": "markdown",
   "metadata": {},
   "source": [
    "# Dataset"
   ]
  },
  {
   "cell_type": "code",
   "execution_count": null,
   "metadata": {},
   "outputs": [],
   "source": [
    "class AbdomenDataset(Dataset):\n",
    "    def __init__(self, filepath: str, label_filepath: str, transform=None):\n",
    "        self.transform = transform\n",
    "        self.data: list = self._load_nii_gz_files(filepath)\n",
    "        self.labels: list = self._load_labels_file(label_filepath)\n",
    "        \n",
    "        self.frames_list: list = []\n",
    "        self.labels_list: list = []\n",
    "        \n",
    "        for (end, begin), img in zip(self.labels, self.data):\n",
    "            for i in range(0, img.shape[2]):\n",
    "                self.frames_list.append(img[:, :, i])\n",
    "                self.labels_list.append(1 if begin <= i <= end else 0)\n",
    "        \n",
    "    def __len__(self) -> int:\n",
    "        return len(self.frames_list)\n",
    "    \n",
    "    def __getitem__(self, idx: int) -> dict:\n",
    "        img = self.frames_list[idx]\n",
    "        label = float(self.labels_list[idx])\n",
    "        \n",
    "        img = torch.tensor(img).float().unsqueeze(0)\n",
    "        img = self.transform(img)            \n",
    "        return img.repeat(3, 1, 1), label\n",
    "        \n",
    "        \n",
    "    def _load_labels_file(self, label_filepath: str) -> list:\n",
    "        labels: list = []\n",
    "        with open(label_filepath, 'r') as file:\n",
    "            for line in file:\n",
    "                _, end, begin = line.split()\n",
    "                labels.append((int(end), int(begin)))\n",
    "        return labels\n",
    "    \n",
    "    def _load_nii_gz_files(self, filepath) -> list:\n",
    "        data: list = []\n",
    "        for file_name in os.listdir(filepath):\n",
    "            if file_name.endswith('.nii.gz'):\n",
    "                file_path = os.path.join(filepath, file_name)\n",
    "                nii_img = nib.load(file_path)\n",
    "                nii_data = nii_img.get_fdata()  # img as numpy array\n",
    "                data.append(nii_data)\n",
    "        return data"
   ]
  },
  {
   "cell_type": "markdown",
   "metadata": {},
   "source": [
    "# Model"
   ]
  },
  {
   "cell_type": "code",
   "execution_count": null,
   "metadata": {},
   "outputs": [],
   "source": [
    "class AbdomenModel(nn.Module):\n",
    "    def __init__(self) -> None:\n",
    "        super(AbdomenModel, self).__init__()\n",
    "        self.densenet = models.densenet121(weights=DenseNet121_Weights.DEFAULT)\n",
    "        self.freeze_densenet()\n",
    "        self.densenet.classifier = nn.Sequential(\n",
    "            nn.Dropout(0.25),\n",
    "            nn.Linear(self.densenet.classifier.in_features, 1),\n",
    "            nn.Sigmoid()\n",
    "        )\n",
    "    \n",
    "    def forward(self, x):\n",
    "        return self.densenet(x)\n",
    "    \n",
    "    def unfreeze_densenet(self) -> None:\n",
    "        for param in self.densenet.parameters():\n",
    "            param.requires_grad = True\n",
    "    \n",
    "    def freeze_densenet(self) -> None:\n",
    "        for param in self.densenet.parameters():\n",
    "            param.requires_grad = False"
   ]
  },
  {
   "cell_type": "markdown",
   "metadata": {},
   "source": [
    "# Training loop"
   ]
  },
  {
   "cell_type": "code",
   "execution_count": null,
   "metadata": {},
   "outputs": [],
   "source": [
    "def training_loop(model: AbdomenModel, criterion: torch.nn.Module, optimizer: Optimizer, dataloader: dict, EPOCHS: int = 10):\n",
    "    accuracy_history: list = []\n",
    "    loss_history: list = []\n",
    "    val_accuracy_history: list = []\n",
    "    val_loss_history: list = []\n",
    "    \n",
    "    for epoch in range(EPOCHS):    \n",
    "        # Training\n",
    "        model.train()\n",
    "        running_loss = 0.0\n",
    "        correct = 0\n",
    "        total = 0\n",
    "        for data in tqdm(dataloader['train']):\n",
    "            inputs, labels = data\n",
    "            inputs, labels = inputs.to(device), labels.to(device).float()\n",
    "            \n",
    "            optimizer.zero_grad()\n",
    "            outputs = model(inputs).squeeze()\n",
    "            loss = criterion(outputs, labels)\n",
    "            \n",
    "            loss.backward()\n",
    "            optimizer.step()\n",
    "            \n",
    "            running_loss += loss.item()\n",
    "            preds = (outputs > 0.5).float()\n",
    "            correct += (preds == labels).sum().item()\n",
    "            total += labels.size(0)\n",
    "        \n",
    "        train_loss = running_loss / len(dataloader['train'])\n",
    "        train_accuracy = correct / total\n",
    "        loss_history.append(train_loss)\n",
    "        accuracy_history.append(train_accuracy)\n",
    "        \n",
    "        # Validation\n",
    "        model.eval()\n",
    "        val_loss = 0.0\n",
    "        val_correct = 0\n",
    "        val_total = 0\n",
    "        with torch.no_grad():\n",
    "            for data in tqdm(dataloader['val']):\n",
    "                inputs, labels = data\n",
    "                inputs, labels = inputs.to(device), labels.to(device).float()\n",
    "                \n",
    "                outputs = model(inputs).squeeze()\n",
    "                loss = criterion(outputs, labels)\n",
    "                \n",
    "                val_loss += loss.item()\n",
    "                preds = (outputs > 0.5).float()\n",
    "                val_correct += (preds == labels).sum().item()\n",
    "                val_total += labels.size(0)\n",
    "        \n",
    "        val_loss = val_loss / len(dataloader['val'])\n",
    "        val_accuracy = val_correct / val_total\n",
    "        val_loss_history.append(val_loss)\n",
    "        val_accuracy_history.append(val_accuracy)\n",
    "        \n",
    "        print(f\"Epoch {epoch + 1}, Train Loss: {train_loss:.4f}, Train Acc: {train_accuracy:.4f}, Val Loss: {val_loss:.4f}, Val Acc: {val_accuracy:.4f}\")\n",
    "        \n",
    "    return model, [accuracy_history, loss_history, val_accuracy_history, val_loss_history]"
   ]
  },
  {
   "cell_type": "markdown",
   "metadata": {},
   "source": [
    "# Algorithm to select window of abdomen"
   ]
  },
  {
   "cell_type": "code",
   "execution_count": null,
   "metadata": {},
   "outputs": [],
   "source": [
    "def select_window_of_abdomen(list_of_probabilities: list) -> tuple[int, int]:\n",
    "    best_begin = 0\n",
    "    best_end = 0\n",
    "    best_value = 0\n",
    "    \n",
    "    list_of_proba = np.array(list_of_probabilities)\n",
    "    list_of_proba_rev = 1 - list_of_proba\n",
    "    \n",
    "    for start in range(len(list_of_probabilities)):\n",
    "        for end in range(start, len(list_of_probabilities)):\n",
    "            product = np.prod(list_of_probabilities[start:end])\n",
    "            product_rev_rest = np.prod(list_of_proba_rev[end + 1:]) * np.prod(list_of_probabilities[:start])\n",
    "            value = product * product_rev_rest\n",
    "            \n",
    "            if value > best_value:\n",
    "                best_value = value\n",
    "                best_begin = start\n",
    "                best_end = end\n",
    "                \n",
    "    return best_begin, best_end"
   ]
  },
  {
   "cell_type": "markdown",
   "metadata": {},
   "source": [
    "# Train"
   ]
  },
  {
   "cell_type": "code",
   "execution_count": null,
   "metadata": {},
   "outputs": [],
   "source": [
    "transform_val = torchvision.transforms.Compose([\n",
    "    torchvision.transforms.Resize((224, 224)),\n",
    "    torchvision.transforms.Normalize(mean=[0.5], std=[0.5])\n",
    "])\n",
    "\n",
    "transform = torchvision.transforms.Compose([\n",
    "    torchvision.transforms.Resize((224, 224)),\n",
    "    torchvision.transforms.RandomHorizontalFlip(),\n",
    "    torchvision.transforms.RandomVerticalFlip(),\n",
    "    torchvision.transforms.RandomRotation(40),\n",
    "    torchvision.transforms.RandomAffine(0, translate=(0.1, 0.1)),\n",
    "    torchvision.transforms.Normalize(mean=[0.5], std=[0.5])\n",
    "])\n",
    "\n",
    "datasets = {\n",
    "    \"train\": AbdomenDataset('data/train', 'data/oznaczenia.txt', transform=transform),\n",
    "    \"val\": AbdomenDataset('data/val', 'data/oznaczenia.txt', transform=transform_val),\n",
    "}\n",
    "\n",
    "dataloaders = {\n",
    "    \"train\": DataLoader(datasets[\"train\"], batch_size=8, shuffle=True),\n",
    "    \"val\": DataLoader(datasets[\"val\"], batch_size=8, shuffle=True)\n",
    "}"
   ]
  },
  {
   "cell_type": "code",
   "execution_count": null,
   "metadata": {},
   "outputs": [],
   "source": [
    "model = AbdomenModel().to(device)\n",
    "criterion = nn.BCELoss()\n",
    "optimizer = torch.optim.Adam(model.parameters(), lr=0.001)"
   ]
  },
  {
   "cell_type": "code",
   "execution_count": null,
   "metadata": {},
   "outputs": [],
   "source": [
    "model, history = training_loop(model, criterion, optimizer, dataloaders, EPOCHS=5)\n",
    "model.unfreeze_densenet()\n",
    "model, history = training_loop(model, criterion, optimizer, dataloaders, EPOCHS=70)\n",
    "torch.save(model.state_dict(), f\"results/model_{datetime.datetime.now().strftime('%Y-%m-%d_%H-%M-%S')}_{max(history[2])}.pth\")"
   ]
  },
  {
   "cell_type": "markdown",
   "metadata": {},
   "source": [
    "# Test"
   ]
  },
  {
   "cell_type": "code",
   "execution_count": null,
   "metadata": {},
   "outputs": [],
   "source": [
    "# model_path: str = \"model_2024-12-08_20-00-00_0.9.pth\"\n",
    "# model.load_state_dict(torch.load(model_path))"
   ]
  }
 ],
 "metadata": {
  "kernelspec": {
   "display_name": ".venv",
   "language": "python",
   "name": "python3"
  },
  "language_info": {
   "codemirror_mode": {
    "name": "ipython",
    "version": 3
   },
   "file_extension": ".py",
   "mimetype": "text/x-python",
   "name": "python",
   "nbconvert_exporter": "python",
   "pygments_lexer": "ipython3",
   "version": "3.12.2"
  }
 },
 "nbformat": 4,
 "nbformat_minor": 2
}
