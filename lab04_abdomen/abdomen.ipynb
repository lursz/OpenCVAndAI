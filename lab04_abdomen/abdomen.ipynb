{
 "cells": [
  {
   "cell_type": "markdown",
   "metadata": {},
   "source": [
    "# Imports"
   ]
  },
  {
   "cell_type": "code",
   "execution_count": 78,
   "metadata": {},
   "outputs": [],
   "source": [
    "import torch\n",
    "import torch.nn as nn\n",
    "import torchvision\n",
    "from torchvision import models\n",
    "from torch.utils.data import Dataset, DataLoader\n",
    "from torch.optim.optimizer import Optimizer\n",
    "from torchvision.models import DenseNet121_Weights\n",
    "from tqdm import tqdm\n",
    "\n",
    "import numpy as np\n",
    "import matplotlib.pyplot as plt\n",
    "import cv2\n",
    "import os\n",
    "import datetime\n",
    "from sklearn.metrics import f1_score\n",
    "from PIL import Image\n",
    "import nibabel as nib\n",
    "\n",
    "device = torch.device(\"cuda\" if torch.cuda.is_available() else \"cpu\")"
   ]
  },
  {
   "cell_type": "markdown",
   "metadata": {},
   "source": [
    "# Visualisation"
   ]
  },
  {
   "cell_type": "code",
   "execution_count": 79,
   "metadata": {},
   "outputs": [],
   "source": [
    "def view_nii_pic(nii_data: np.ndarray) -> None:\n",
    "    for i in range(nii_data.shape[2]):\n",
    "        cv2.imshow('slice', nii_data[:, :, i])\n",
    "        cv2.waitKey(0)\n",
    "    cv2.destroyAllWindows()\n",
    "    \n",
    "def visualize_photo(img: np.ndarray, photo_title: str, *slices: int) -> None:\n",
    "    print(f\"Visualizing {photo_title}\")\n",
    "    plt.figure(figsize=(5 * len(slices), 5)) \n",
    "    \n",
    "    for i, slice_num in enumerate(slices):\n",
    "        plt.subplot(1, len(slices), i + 1)\n",
    "        plt.title(f\"photo Slice {slice_num}\")\n",
    "        plt.imshow(img[:, :, slice_num], cmap=\"gray\")\n",
    "        \n",
    "    plt.tight_layout() \n",
    "    plt.show()\n",
    "  \n",
    "    \n",
    "def visualize_photos(original: np.ndarray, segmented: np.ndarray, reference: np.ndarray, *slices: int) -> None:\n",
    "    num_slices = len(slices)\n",
    "    plt.figure(figsize=(15, 5 * num_slices))  # Adjust figure size based on the number of slices\n",
    "\n",
    "    for i, slice_num in enumerate(slices):\n",
    "        # Original slice\n",
    "        plt.subplot(num_slices, 3, 3 * i + 1)\n",
    "        plt.title(f\"Original Slice {slice_num}\")\n",
    "        plt.imshow(original[:, :, slice_num], cmap=\"gray\")\n",
    "        \n",
    "        # Segmented slice\n",
    "        plt.subplot(num_slices, 3, 3 * i + 2)\n",
    "        plt.title(f\"Segmented Slice {slice_num}\")\n",
    "        plt.imshow(segmented[:, :, slice_num], cmap=\"gray\")\n",
    "        \n",
    "        # Reference slice\n",
    "        plt.subplot(num_slices, 3, 3 * i + 3)\n",
    "        plt.title(f\"Reference Slice {slice_num}\")\n",
    "        plt.imshow(reference[:, :, slice_num], cmap=\"gray\")\n",
    "\n",
    "    plt.tight_layout() \n",
    "    plt.show()\n",
    "    \n",
    "def plot_histogram(img: np.ndarray) -> None:\n",
    "    plt.hist(img.ravel(), bins=256, range=(img.min()+1, img.max()-1), fc='k', ec='k')\n",
    "    plt.axvline(x=-320, color='red', linestyle='--', linewidth=1.5)\n",
    "    plt.show()"
   ]
  },
  {
   "cell_type": "markdown",
   "metadata": {},
   "source": [
    "# Dataset"
   ]
  },
  {
   "cell_type": "code",
   "execution_count": 80,
   "metadata": {},
   "outputs": [],
   "source": [
    "class AbdomenDataset(Dataset):\n",
    "    def __init__(self, filepath: str, label_filepath: str, transform=None):\n",
    "        self.transform = transform\n",
    "        self.data: list = self._load_nii_gz_files(filepath)\n",
    "        self.labels: list = self._load_labels_file(label_filepath)\n",
    "        \n",
    "        self.frames_list: list = []\n",
    "        self.labels_list: list = []\n",
    "        \n",
    "        self.positive_count = 0\n",
    "        \n",
    "        for file_name, img in self.data:\n",
    "            end, begin = self.labels[file_name]\n",
    "            for i in range(0, img.shape[2]):\n",
    "                self.frames_list.append(img[:, :, i])\n",
    "                self.labels_list.append(1 if begin <= i <= end else 0)\n",
    "                self.positive_count += self.labels_list[-1]\n",
    "        \n",
    "    def __len__(self) -> int:\n",
    "        return len(self.frames_list)\n",
    "    \n",
    "    def __getitem__(self, idx: int) -> dict:\n",
    "        img = self.frames_list[idx]\n",
    "        label = float(self.labels_list[idx])\n",
    "        \n",
    "        img = torch.tensor(img).float().unsqueeze(0)\n",
    "        img = self.transform(img)            \n",
    "        return img.repeat(3, 1, 1), label\n",
    "        \n",
    "        \n",
    "    def _load_labels_file(self, label_filepath: str) -> dict:\n",
    "        labels: list = {}\n",
    "        with open(label_filepath, 'r') as file:\n",
    "            for line in file:\n",
    "                file_name, end, begin = line.split()\n",
    "                labels[file_name] = (int(end), int(begin))\n",
    "        return labels\n",
    "    \n",
    "    def _load_nii_gz_files(self, filepath) -> list:\n",
    "        data: list = []\n",
    "        for file_name in os.listdir(filepath):\n",
    "            if file_name.endswith('.nii.gz'):\n",
    "                file_path = os.path.join(filepath, file_name)\n",
    "                nii_img = nib.load(file_path)\n",
    "                nii_data = nii_img.get_fdata()  # img as numpy array\n",
    "                data.append((file_name, nii_data))\n",
    "        return data"
   ]
  },
  {
   "cell_type": "markdown",
   "metadata": {},
   "source": [
    "# Model"
   ]
  },
  {
   "cell_type": "code",
   "execution_count": 81,
   "metadata": {},
   "outputs": [],
   "source": [
    "class AbdomenModel(nn.Module):\n",
    "    def __init__(self) -> None:\n",
    "        super(AbdomenModel, self).__init__()\n",
    "        self.densenet = models.densenet121(weights=DenseNet121_Weights.DEFAULT)\n",
    "        self.freeze_densenet()\n",
    "        self.densenet.classifier = nn.Sequential(\n",
    "            nn.Dropout(0.25),\n",
    "            nn.Linear(self.densenet.classifier.in_features, 1)\n",
    "        )\n",
    "        self.sigmoid = nn.Sigmoid()\n",
    "        \n",
    "    def predict(self, x):\n",
    "        x = self(x)\n",
    "        return self.sigmoid(x)\n",
    "    \n",
    "    def forward(self, x):\n",
    "        return self.densenet(x)\n",
    "    \n",
    "    def unfreeze_densenet(self) -> None:\n",
    "        for param in self.densenet.parameters():\n",
    "            param.requires_grad = True\n",
    "    \n",
    "    def freeze_densenet(self) -> None:\n",
    "        for param in self.densenet.parameters():\n",
    "            param.requires_grad = False"
   ]
  },
  {
   "cell_type": "markdown",
   "metadata": {},
   "source": [
    "# Training loop"
   ]
  },
  {
   "cell_type": "code",
   "execution_count": 82,
   "metadata": {},
   "outputs": [],
   "source": [
    "def training_loop(model: AbdomenModel, criterion: torch.nn.Module, optimizer: Optimizer, dataloader: dict, EPOCHS: int = 10):\n",
    "    accuracy_history: list = []\n",
    "    loss_history: list = []\n",
    "    val_accuracy_history: list = []\n",
    "    val_loss_history: list = []\n",
    "    \n",
    "    sigm = nn.Sigmoid()\n",
    "    \n",
    "    for epoch in range(EPOCHS):    \n",
    "        # Training\n",
    "        model.train()\n",
    "        running_loss = 0.0\n",
    "        correct = 0\n",
    "        total = 0\n",
    "        for data in tqdm(dataloader['train']):\n",
    "            inputs, labels = data\n",
    "            inputs, labels = inputs.to(device), labels.to(device).float()\n",
    "            \n",
    "            optimizer.zero_grad()\n",
    "            outputs = model(inputs).squeeze(dim=-1)\n",
    "            outputs_sigm = sigm(outputs)\n",
    "            \n",
    "            loss = criterion(outputs, labels)\n",
    "            \n",
    "            loss.backward()\n",
    "            optimizer.step()\n",
    "            \n",
    "            running_loss += loss.item()\n",
    "            preds = (outputs_sigm > 0.5).float()\n",
    "            correct += (preds == labels).sum().item()\n",
    "            total += labels.size(0)\n",
    "        \n",
    "        train_loss = running_loss / len(dataloader['train'])\n",
    "        train_accuracy = correct / total\n",
    "        loss_history.append(train_loss)\n",
    "        accuracy_history.append(train_accuracy)\n",
    "        \n",
    "        # Validation\n",
    "        model.eval()\n",
    "        val_loss = 0.0\n",
    "        val_correct = 0\n",
    "        val_total = 0\n",
    "        with torch.no_grad():\n",
    "            for data in tqdm(dataloader['val']):\n",
    "                inputs, labels = data\n",
    "                inputs, labels = inputs.to(device), labels.to(device).float()\n",
    "                \n",
    "                outputs = model(inputs).squeeze(dim=-1)\n",
    "                outputs_sigm = sigm(outputs)\n",
    "            \n",
    "                loss = criterion(outputs, labels)\n",
    "                \n",
    "                val_loss += loss.item()\n",
    "                preds = (outputs_sigm > 0.5).float()\n",
    "                val_correct += (preds == labels).sum().item()\n",
    "                val_total += labels.size(0)\n",
    "        \n",
    "        val_loss = val_loss / len(dataloader['val'])\n",
    "        val_accuracy = val_correct / val_total\n",
    "        val_loss_history.append(val_loss)\n",
    "        val_accuracy_history.append(val_accuracy)\n",
    "        \n",
    "        print(f\"Epoch {epoch + 1}, Train Loss: {train_loss:.4f}, Train Acc: {train_accuracy:.4f}, Val Loss: {val_loss:.4f}, Val Acc: {val_accuracy:.4f}\")\n",
    "        \n",
    "    return model, [accuracy_history, loss_history, val_accuracy_history, val_loss_history]"
   ]
  },
  {
   "cell_type": "markdown",
   "metadata": {},
   "source": [
    "# Algorithm to select window of abdomen"
   ]
  },
  {
   "cell_type": "code",
   "execution_count": 83,
   "metadata": {},
   "outputs": [],
   "source": [
    "def select_window_of_abdomen(list_of_probabilities: list) -> tuple[int, int]:\n",
    "    best_begin = 0\n",
    "    best_end = 0\n",
    "    best_value = 0\n",
    "    \n",
    "    list_of_proba = np.array(list_of_probabilities)\n",
    "    list_of_proba_rev = 1 - list_of_proba\n",
    "    \n",
    "    for start in range(len(list_of_probabilities)):\n",
    "        for end in range(start, len(list_of_probabilities)):\n",
    "            product = np.prod(list_of_probabilities[start:end])\n",
    "            product_rev_rest = np.prod(list_of_proba_rev[end + 1:]) * np.prod(list_of_probabilities[:start])\n",
    "            value = product * product_rev_rest\n",
    "            \n",
    "            if value > best_value:\n",
    "                best_value = value\n",
    "                best_begin = start\n",
    "                best_end = end\n",
    "                \n",
    "    return best_begin, best_end"
   ]
  },
  {
   "cell_type": "markdown",
   "metadata": {},
   "source": [
    "# Train"
   ]
  },
  {
   "cell_type": "code",
   "execution_count": 84,
   "metadata": {},
   "outputs": [],
   "source": [
    "transform_val = torchvision.transforms.Compose([\n",
    "    lambda x: (x + 1024) / 3072,\n",
    "    torchvision.transforms.Resize((224, 224)),\n",
    "    torchvision.transforms.Normalize(mean=[0.5], std=[0.5])\n",
    "])\n",
    "\n",
    "transform = torchvision.transforms.Compose([\n",
    "    lambda x: (x + 1024) / 3072,\n",
    "    torchvision.transforms.Resize((224, 224)),\n",
    "    torchvision.transforms.RandomHorizontalFlip(),\n",
    "    torchvision.transforms.RandomVerticalFlip(),\n",
    "    torchvision.transforms.RandomRotation(40),\n",
    "    torchvision.transforms.RandomAffine(0, translate=(0.1, 0.1)),\n",
    "    torchvision.transforms.Normalize(mean=[0.5], std=[0.5])\n",
    "])\n",
    "\n",
    "datasets = {\n",
    "    \"train\": AbdomenDataset('data/train', 'data/oznaczenia.txt', transform=transform),\n",
    "    \"val\": AbdomenDataset('data/val', 'data/oznaczenia.txt', transform=transform_val),\n",
    "}\n",
    "\n",
    "dataloaders = {\n",
    "    \"train\": DataLoader(datasets[\"train\"], batch_size=8, shuffle=True),\n",
    "    \"val\": DataLoader(datasets[\"val\"], batch_size=8, shuffle=True)\n",
    "}"
   ]
  },
  {
   "cell_type": "code",
   "execution_count": 85,
   "metadata": {},
   "outputs": [
    {
     "name": "stdout",
     "output_type": "stream",
     "text": [
      "3809\n",
      "6.618\n"
     ]
    }
   ],
   "source": [
    "print(len(datasets['train']))\n",
    "scaling_weight = (len(datasets['train']) - datasets['train'].positive_count) / datasets['train'].positive_count\n",
    "print(scaling_weight)"
   ]
  },
  {
   "cell_type": "code",
   "execution_count": 86,
   "metadata": {},
   "outputs": [],
   "source": [
    "model = AbdomenModel().to(device)\n",
    "criterion = nn.BCEWithLogitsLoss(pos_weight=torch.tensor([scaling_weight], device=device))\n",
    "optimizer = torch.optim.Adam(model.parameters(), lr=0.001)"
   ]
  },
  {
   "cell_type": "code",
   "execution_count": 87,
   "metadata": {},
   "outputs": [
    {
     "name": "stderr",
     "output_type": "stream",
     "text": [
      "100%|██████████| 477/477 [00:22<00:00, 21.28it/s]\n",
      "100%|██████████| 132/132 [00:02<00:00, 64.23it/s]\n"
     ]
    },
    {
     "name": "stdout",
     "output_type": "stream",
     "text": [
      "Epoch 1, Train Loss: 0.7429, Train Acc: 0.8002, Val Loss: 0.8619, Val Acc: 0.9106\n"
     ]
    },
    {
     "name": "stderr",
     "output_type": "stream",
     "text": [
      "100%|██████████| 477/477 [00:16<00:00, 28.67it/s]\n",
      "100%|██████████| 132/132 [00:01<00:00, 69.76it/s]\n"
     ]
    },
    {
     "name": "stdout",
     "output_type": "stream",
     "text": [
      "Epoch 2, Train Loss: 0.5740, Train Acc: 0.8530, Val Loss: 0.7096, Val Acc: 0.9211\n"
     ]
    },
    {
     "name": "stderr",
     "output_type": "stream",
     "text": [
      "100%|██████████| 477/477 [00:16<00:00, 28.86it/s]\n",
      "100%|██████████| 132/132 [00:01<00:00, 69.04it/s]\n"
     ]
    },
    {
     "name": "stdout",
     "output_type": "stream",
     "text": [
      "Epoch 3, Train Loss: 0.4986, Train Acc: 0.8758, Val Loss: 0.6263, Val Acc: 0.9011\n"
     ]
    },
    {
     "name": "stderr",
     "output_type": "stream",
     "text": [
      "100%|██████████| 477/477 [00:16<00:00, 28.99it/s]\n",
      "100%|██████████| 132/132 [00:01<00:00, 69.88it/s]\n"
     ]
    },
    {
     "name": "stdout",
     "output_type": "stream",
     "text": [
      "Epoch 4, Train Loss: 0.5264, Train Acc: 0.8632, Val Loss: 0.5873, Val Acc: 0.8593\n"
     ]
    },
    {
     "name": "stderr",
     "output_type": "stream",
     "text": [
      "100%|██████████| 477/477 [00:16<00:00, 28.81it/s]\n",
      "100%|██████████| 132/132 [00:01<00:00, 68.78it/s]\n"
     ]
    },
    {
     "name": "stdout",
     "output_type": "stream",
     "text": [
      "Epoch 5, Train Loss: 0.4903, Train Acc: 0.8703, Val Loss: 0.7983, Val Acc: 0.9144\n"
     ]
    },
    {
     "name": "stderr",
     "output_type": "stream",
     "text": [
      "100%|██████████| 477/477 [00:28<00:00, 16.62it/s]\n",
      "100%|██████████| 132/132 [00:02<00:00, 64.61it/s]\n"
     ]
    },
    {
     "name": "stdout",
     "output_type": "stream",
     "text": [
      "Epoch 1, Train Loss: 0.6452, Train Acc: 0.8385, Val Loss: 2.3532, Val Acc: 0.8688\n"
     ]
    },
    {
     "name": "stderr",
     "output_type": "stream",
     "text": [
      "100%|██████████| 477/477 [00:31<00:00, 15.00it/s]\n",
      "100%|██████████| 132/132 [00:02<00:00, 61.73it/s]\n"
     ]
    },
    {
     "name": "stdout",
     "output_type": "stream",
     "text": [
      "Epoch 2, Train Loss: 0.4971, Train Acc: 0.8758, Val Loss: 2.6172, Val Acc: 0.8707\n"
     ]
    },
    {
     "name": "stderr",
     "output_type": "stream",
     "text": [
      "100%|██████████| 477/477 [00:32<00:00, 14.46it/s]\n",
      "100%|██████████| 132/132 [00:02<00:00, 58.52it/s]\n"
     ]
    },
    {
     "name": "stdout",
     "output_type": "stream",
     "text": [
      "Epoch 3, Train Loss: 0.4590, Train Acc: 0.8918, Val Loss: 0.4614, Val Acc: 0.8774\n"
     ]
    },
    {
     "name": "stderr",
     "output_type": "stream",
     "text": [
      "100%|██████████| 477/477 [00:34<00:00, 13.64it/s]\n",
      "100%|██████████| 132/132 [00:02<00:00, 61.28it/s]\n"
     ]
    },
    {
     "name": "stdout",
     "output_type": "stream",
     "text": [
      "Epoch 4, Train Loss: 0.3417, Train Acc: 0.9105, Val Loss: 0.1822, Val Acc: 0.9354\n"
     ]
    },
    {
     "name": "stderr",
     "output_type": "stream",
     "text": [
      "100%|██████████| 477/477 [00:29<00:00, 16.29it/s]\n",
      "100%|██████████| 132/132 [00:02<00:00, 63.16it/s]\n"
     ]
    },
    {
     "name": "stdout",
     "output_type": "stream",
     "text": [
      "Epoch 5, Train Loss: 0.3841, Train Acc: 0.9286, Val Loss: 0.0875, Val Acc: 0.9781\n"
     ]
    },
    {
     "name": "stderr",
     "output_type": "stream",
     "text": [
      "100%|██████████| 477/477 [00:29<00:00, 16.19it/s]\n",
      "100%|██████████| 132/132 [00:02<00:00, 60.31it/s]\n"
     ]
    },
    {
     "name": "stdout",
     "output_type": "stream",
     "text": [
      "Epoch 6, Train Loss: 0.2463, Train Acc: 0.9362, Val Loss: 0.0898, Val Acc: 0.9753\n"
     ]
    },
    {
     "name": "stderr",
     "output_type": "stream",
     "text": [
      "100%|██████████| 477/477 [00:33<00:00, 14.08it/s]\n",
      "100%|██████████| 132/132 [00:02<00:00, 63.05it/s]\n"
     ]
    },
    {
     "name": "stdout",
     "output_type": "stream",
     "text": [
      "Epoch 7, Train Loss: 0.2363, Train Acc: 0.9396, Val Loss: 0.3898, Val Acc: 0.9221\n"
     ]
    },
    {
     "name": "stderr",
     "output_type": "stream",
     "text": [
      "100%|██████████| 477/477 [00:29<00:00, 16.39it/s]\n",
      "100%|██████████| 132/132 [00:02<00:00, 62.72it/s]\n"
     ]
    },
    {
     "name": "stdout",
     "output_type": "stream",
     "text": [
      "Epoch 8, Train Loss: 0.3160, Train Acc: 0.9207, Val Loss: 0.3200, Val Acc: 0.9449\n"
     ]
    },
    {
     "name": "stderr",
     "output_type": "stream",
     "text": [
      "100%|██████████| 477/477 [00:30<00:00, 15.52it/s]\n",
      "100%|██████████| 132/132 [00:02<00:00, 61.23it/s]\n"
     ]
    },
    {
     "name": "stdout",
     "output_type": "stream",
     "text": [
      "Epoch 9, Train Loss: 0.2733, Train Acc: 0.9315, Val Loss: 1.2075, Val Acc: 0.9354\n"
     ]
    },
    {
     "name": "stderr",
     "output_type": "stream",
     "text": [
      "100%|██████████| 477/477 [00:30<00:00, 15.82it/s]\n",
      "100%|██████████| 132/132 [00:02<00:00, 60.38it/s]\n"
     ]
    },
    {
     "name": "stdout",
     "output_type": "stream",
     "text": [
      "Epoch 10, Train Loss: 0.3097, Train Acc: 0.9186, Val Loss: 0.1564, Val Acc: 0.9449\n"
     ]
    },
    {
     "name": "stderr",
     "output_type": "stream",
     "text": [
      "100%|██████████| 477/477 [00:30<00:00, 15.80it/s]\n",
      "100%|██████████| 132/132 [00:02<00:00, 60.27it/s]\n"
     ]
    },
    {
     "name": "stdout",
     "output_type": "stream",
     "text": [
      "Epoch 11, Train Loss: 0.2610, Train Acc: 0.9338, Val Loss: 0.1198, Val Acc: 0.9620\n"
     ]
    },
    {
     "name": "stderr",
     "output_type": "stream",
     "text": [
      "100%|██████████| 477/477 [00:33<00:00, 14.25it/s]\n",
      "100%|██████████| 132/132 [00:02<00:00, 63.44it/s]\n"
     ]
    },
    {
     "name": "stdout",
     "output_type": "stream",
     "text": [
      "Epoch 12, Train Loss: 0.1699, Train Acc: 0.9617, Val Loss: 0.1869, Val Acc: 0.9335\n"
     ]
    },
    {
     "name": "stderr",
     "output_type": "stream",
     "text": [
      "100%|██████████| 477/477 [00:30<00:00, 15.86it/s]\n",
      "100%|██████████| 132/132 [00:02<00:00, 63.41it/s]\n"
     ]
    },
    {
     "name": "stdout",
     "output_type": "stream",
     "text": [
      "Epoch 13, Train Loss: 0.2058, Train Acc: 0.9504, Val Loss: 0.6922, Val Acc: 0.9154\n"
     ]
    },
    {
     "name": "stderr",
     "output_type": "stream",
     "text": [
      "100%|██████████| 477/477 [00:29<00:00, 15.96it/s]\n",
      "100%|██████████| 132/132 [00:02<00:00, 62.92it/s]\n"
     ]
    },
    {
     "name": "stdout",
     "output_type": "stream",
     "text": [
      "Epoch 14, Train Loss: 0.2030, Train Acc: 0.9407, Val Loss: 0.1840, Val Acc: 0.9487\n"
     ]
    },
    {
     "name": "stderr",
     "output_type": "stream",
     "text": [
      "100%|██████████| 477/477 [00:29<00:00, 16.00it/s]\n",
      "100%|██████████| 132/132 [00:02<00:00, 60.29it/s]\n"
     ]
    },
    {
     "name": "stdout",
     "output_type": "stream",
     "text": [
      "Epoch 15, Train Loss: 0.1974, Train Acc: 0.9517, Val Loss: 0.1416, Val Acc: 0.9667\n"
     ]
    },
    {
     "name": "stderr",
     "output_type": "stream",
     "text": [
      "100%|██████████| 477/477 [00:32<00:00, 14.86it/s]\n",
      "100%|██████████| 132/132 [00:02<00:00, 62.91it/s]\n"
     ]
    },
    {
     "name": "stdout",
     "output_type": "stream",
     "text": [
      "Epoch 16, Train Loss: 0.1579, Train Acc: 0.9567, Val Loss: 0.2770, Val Acc: 0.8840\n"
     ]
    },
    {
     "name": "stderr",
     "output_type": "stream",
     "text": [
      "100%|██████████| 477/477 [00:30<00:00, 15.83it/s]\n",
      "100%|██████████| 132/132 [00:02<00:00, 64.69it/s]\n"
     ]
    },
    {
     "name": "stdout",
     "output_type": "stream",
     "text": [
      "Epoch 17, Train Loss: 0.2446, Train Acc: 0.9438, Val Loss: 0.2651, Val Acc: 0.9163\n"
     ]
    },
    {
     "name": "stderr",
     "output_type": "stream",
     "text": [
      "100%|██████████| 477/477 [00:30<00:00, 15.56it/s]\n",
      "100%|██████████| 132/132 [00:02<00:00, 61.22it/s]\n"
     ]
    },
    {
     "name": "stdout",
     "output_type": "stream",
     "text": [
      "Epoch 18, Train Loss: 0.3476, Train Acc: 0.9593, Val Loss: 0.2358, Val Acc: 0.9772\n"
     ]
    },
    {
     "name": "stderr",
     "output_type": "stream",
     "text": [
      "100%|██████████| 477/477 [00:30<00:00, 15.69it/s]\n",
      "100%|██████████| 132/132 [00:01<00:00, 68.13it/s]\n"
     ]
    },
    {
     "name": "stdout",
     "output_type": "stream",
     "text": [
      "Epoch 19, Train Loss: 0.3347, Train Acc: 0.9420, Val Loss: 0.2025, Val Acc: 0.9639\n"
     ]
    },
    {
     "name": "stderr",
     "output_type": "stream",
     "text": [
      "100%|██████████| 477/477 [00:28<00:00, 16.57it/s]\n",
      "100%|██████████| 132/132 [00:01<00:00, 68.90it/s]\n"
     ]
    },
    {
     "name": "stdout",
     "output_type": "stream",
     "text": [
      "Epoch 20, Train Loss: 0.2129, Train Acc: 0.9454, Val Loss: 0.0796, Val Acc: 0.9753\n"
     ]
    },
    {
     "name": "stderr",
     "output_type": "stream",
     "text": [
      "100%|██████████| 477/477 [00:31<00:00, 14.92it/s]\n",
      "100%|██████████| 132/132 [00:02<00:00, 61.03it/s]\n"
     ]
    },
    {
     "name": "stdout",
     "output_type": "stream",
     "text": [
      "Epoch 21, Train Loss: 0.1438, Train Acc: 0.9622, Val Loss: 0.1117, Val Acc: 0.9914\n"
     ]
    },
    {
     "name": "stderr",
     "output_type": "stream",
     "text": [
      "100%|██████████| 477/477 [00:35<00:00, 13.62it/s]\n",
      "100%|██████████| 132/132 [00:02<00:00, 60.33it/s]\n"
     ]
    },
    {
     "name": "stdout",
     "output_type": "stream",
     "text": [
      "Epoch 22, Train Loss: 0.2837, Train Acc: 0.9651, Val Loss: 0.0882, Val Acc: 0.9724\n"
     ]
    },
    {
     "name": "stderr",
     "output_type": "stream",
     "text": [
      "100%|██████████| 477/477 [00:35<00:00, 13.41it/s]\n",
      "100%|██████████| 132/132 [00:02<00:00, 58.14it/s]\n"
     ]
    },
    {
     "name": "stdout",
     "output_type": "stream",
     "text": [
      "Epoch 23, Train Loss: 0.2079, Train Acc: 0.9438, Val Loss: 0.0905, Val Acc: 0.9810\n"
     ]
    },
    {
     "name": "stderr",
     "output_type": "stream",
     "text": [
      "100%|██████████| 477/477 [00:30<00:00, 15.70it/s]\n",
      "100%|██████████| 132/132 [00:02<00:00, 65.66it/s]\n"
     ]
    },
    {
     "name": "stdout",
     "output_type": "stream",
     "text": [
      "Epoch 24, Train Loss: 0.1287, Train Acc: 0.9680, Val Loss: 0.0974, Val Acc: 0.9724\n"
     ]
    },
    {
     "name": "stderr",
     "output_type": "stream",
     "text": [
      "100%|██████████| 477/477 [00:32<00:00, 14.70it/s]\n",
      "100%|██████████| 132/132 [00:02<00:00, 64.35it/s]\n"
     ]
    },
    {
     "name": "stdout",
     "output_type": "stream",
     "text": [
      "Epoch 25, Train Loss: 0.1516, Train Acc: 0.9643, Val Loss: 0.1077, Val Acc: 0.9933\n"
     ]
    },
    {
     "name": "stderr",
     "output_type": "stream",
     "text": [
      "100%|██████████| 477/477 [00:30<00:00, 15.87it/s]\n",
      "100%|██████████| 132/132 [00:02<00:00, 64.11it/s]\n"
     ]
    },
    {
     "name": "stdout",
     "output_type": "stream",
     "text": [
      "Epoch 26, Train Loss: 0.1338, Train Acc: 0.9638, Val Loss: 0.0756, Val Acc: 0.9933\n"
     ]
    },
    {
     "name": "stderr",
     "output_type": "stream",
     "text": [
      "100%|██████████| 477/477 [00:29<00:00, 16.15it/s]\n",
      "100%|██████████| 132/132 [00:02<00:00, 62.38it/s]\n"
     ]
    },
    {
     "name": "stdout",
     "output_type": "stream",
     "text": [
      "Epoch 27, Train Loss: 0.1302, Train Acc: 0.9695, Val Loss: 0.1164, Val Acc: 0.9895\n"
     ]
    },
    {
     "name": "stderr",
     "output_type": "stream",
     "text": [
      "100%|██████████| 477/477 [00:35<00:00, 13.41it/s]\n",
      "100%|██████████| 132/132 [00:02<00:00, 60.18it/s]\n"
     ]
    },
    {
     "name": "stdout",
     "output_type": "stream",
     "text": [
      "Epoch 28, Train Loss: 0.2732, Train Acc: 0.9693, Val Loss: 0.1859, Val Acc: 0.9762\n"
     ]
    },
    {
     "name": "stderr",
     "output_type": "stream",
     "text": [
      "100%|██████████| 477/477 [00:33<00:00, 14.28it/s]\n",
      "100%|██████████| 132/132 [00:02<00:00, 58.20it/s]\n"
     ]
    },
    {
     "name": "stdout",
     "output_type": "stream",
     "text": [
      "Epoch 29, Train Loss: 0.1824, Train Acc: 0.9520, Val Loss: 0.0427, Val Acc: 0.9933\n"
     ]
    },
    {
     "name": "stderr",
     "output_type": "stream",
     "text": [
      "100%|██████████| 477/477 [00:34<00:00, 13.92it/s]\n",
      "100%|██████████| 132/132 [00:02<00:00, 59.05it/s]\n"
     ]
    },
    {
     "name": "stdout",
     "output_type": "stream",
     "text": [
      "Epoch 30, Train Loss: 0.3092, Train Acc: 0.9572, Val Loss: 0.1877, Val Acc: 0.9886\n"
     ]
    },
    {
     "name": "stderr",
     "output_type": "stream",
     "text": [
      "100%|██████████| 477/477 [00:33<00:00, 14.20it/s]\n",
      "100%|██████████| 132/132 [00:02<00:00, 59.21it/s]\n"
     ]
    },
    {
     "name": "stdout",
     "output_type": "stream",
     "text": [
      "Epoch 31, Train Loss: 0.1395, Train Acc: 0.9688, Val Loss: 0.1198, Val Acc: 0.9905\n"
     ]
    },
    {
     "name": "stderr",
     "output_type": "stream",
     "text": [
      "100%|██████████| 477/477 [00:31<00:00, 15.04it/s]\n",
      "100%|██████████| 132/132 [00:01<00:00, 66.06it/s]\n"
     ]
    },
    {
     "name": "stdout",
     "output_type": "stream",
     "text": [
      "Epoch 32, Train Loss: 0.1269, Train Acc: 0.9709, Val Loss: 0.0687, Val Acc: 0.9905\n"
     ]
    },
    {
     "name": "stderr",
     "output_type": "stream",
     "text": [
      "100%|██████████| 477/477 [00:34<00:00, 13.92it/s]\n",
      "100%|██████████| 132/132 [00:02<00:00, 59.73it/s]\n"
     ]
    },
    {
     "name": "stdout",
     "output_type": "stream",
     "text": [
      "Epoch 33, Train Loss: 0.1325, Train Acc: 0.9693, Val Loss: 0.1569, Val Acc: 0.9838\n"
     ]
    },
    {
     "name": "stderr",
     "output_type": "stream",
     "text": [
      "100%|██████████| 477/477 [00:32<00:00, 14.69it/s]\n",
      "100%|██████████| 132/132 [00:01<00:00, 66.28it/s]\n"
     ]
    },
    {
     "name": "stdout",
     "output_type": "stream",
     "text": [
      "Epoch 34, Train Loss: 0.0792, Train Acc: 0.9793, Val Loss: 0.0861, Val Acc: 0.9810\n"
     ]
    },
    {
     "name": "stderr",
     "output_type": "stream",
     "text": [
      "100%|██████████| 477/477 [00:30<00:00, 15.87it/s]\n",
      "100%|██████████| 132/132 [00:01<00:00, 67.24it/s]\n"
     ]
    },
    {
     "name": "stdout",
     "output_type": "stream",
     "text": [
      "Epoch 35, Train Loss: 0.0961, Train Acc: 0.9764, Val Loss: 0.1497, Val Acc: 0.9734\n"
     ]
    },
    {
     "name": "stderr",
     "output_type": "stream",
     "text": [
      "100%|██████████| 477/477 [00:32<00:00, 14.83it/s]\n",
      "100%|██████████| 132/132 [00:02<00:00, 61.17it/s]\n"
     ]
    },
    {
     "name": "stdout",
     "output_type": "stream",
     "text": [
      "Epoch 36, Train Loss: 0.1194, Train Acc: 0.9730, Val Loss: 0.1002, Val Acc: 0.9762\n"
     ]
    },
    {
     "name": "stderr",
     "output_type": "stream",
     "text": [
      "100%|██████████| 477/477 [00:30<00:00, 15.75it/s]\n",
      "100%|██████████| 132/132 [00:02<00:00, 62.84it/s]\n"
     ]
    },
    {
     "name": "stdout",
     "output_type": "stream",
     "text": [
      "Epoch 37, Train Loss: 0.0858, Train Acc: 0.9798, Val Loss: 0.0589, Val Acc: 0.9810\n"
     ]
    },
    {
     "name": "stderr",
     "output_type": "stream",
     "text": [
      "100%|██████████| 477/477 [00:32<00:00, 14.71it/s]\n",
      "100%|██████████| 132/132 [00:02<00:00, 60.45it/s]\n"
     ]
    },
    {
     "name": "stdout",
     "output_type": "stream",
     "text": [
      "Epoch 38, Train Loss: 0.1097, Train Acc: 0.9751, Val Loss: 0.7843, Val Acc: 0.9287\n"
     ]
    },
    {
     "name": "stderr",
     "output_type": "stream",
     "text": [
      "100%|██████████| 477/477 [00:34<00:00, 13.91it/s]\n",
      "100%|██████████| 132/132 [00:02<00:00, 58.77it/s]\n"
     ]
    },
    {
     "name": "stdout",
     "output_type": "stream",
     "text": [
      "Epoch 39, Train Loss: 0.1200, Train Acc: 0.9711, Val Loss: 0.1048, Val Acc: 0.9829\n"
     ]
    },
    {
     "name": "stderr",
     "output_type": "stream",
     "text": [
      "100%|██████████| 477/477 [00:32<00:00, 14.56it/s]\n",
      "100%|██████████| 132/132 [00:02<00:00, 60.14it/s]\n"
     ]
    },
    {
     "name": "stdout",
     "output_type": "stream",
     "text": [
      "Epoch 40, Train Loss: 0.1068, Train Acc: 0.9777, Val Loss: 0.0851, Val Acc: 0.9781\n"
     ]
    },
    {
     "name": "stderr",
     "output_type": "stream",
     "text": [
      "100%|██████████| 477/477 [00:33<00:00, 14.41it/s]\n",
      "100%|██████████| 132/132 [00:02<00:00, 60.60it/s]\n"
     ]
    },
    {
     "name": "stdout",
     "output_type": "stream",
     "text": [
      "Epoch 41, Train Loss: 0.1025, Train Acc: 0.9769, Val Loss: 0.1055, Val Acc: 0.9914\n"
     ]
    },
    {
     "name": "stderr",
     "output_type": "stream",
     "text": [
      "100%|██████████| 477/477 [00:34<00:00, 13.72it/s]\n",
      "100%|██████████| 132/132 [00:02<00:00, 59.19it/s]\n"
     ]
    },
    {
     "name": "stdout",
     "output_type": "stream",
     "text": [
      "Epoch 42, Train Loss: 0.1420, Train Acc: 0.9737, Val Loss: 0.0831, Val Acc: 0.9914\n"
     ]
    },
    {
     "name": "stderr",
     "output_type": "stream",
     "text": [
      "100%|██████████| 477/477 [00:35<00:00, 13.40it/s]\n",
      "100%|██████████| 132/132 [00:02<00:00, 58.40it/s]\n"
     ]
    },
    {
     "name": "stdout",
     "output_type": "stream",
     "text": [
      "Epoch 43, Train Loss: 0.0979, Train Acc: 0.9779, Val Loss: 0.1304, Val Acc: 0.9924\n"
     ]
    },
    {
     "name": "stderr",
     "output_type": "stream",
     "text": [
      "100%|██████████| 477/477 [00:34<00:00, 13.99it/s]\n",
      "100%|██████████| 132/132 [00:02<00:00, 60.59it/s]\n"
     ]
    },
    {
     "name": "stdout",
     "output_type": "stream",
     "text": [
      "Epoch 44, Train Loss: 0.0817, Train Acc: 0.9790, Val Loss: 0.0967, Val Acc: 0.9686\n"
     ]
    },
    {
     "name": "stderr",
     "output_type": "stream",
     "text": [
      "100%|██████████| 477/477 [00:33<00:00, 14.39it/s]\n",
      "100%|██████████| 132/132 [00:02<00:00, 60.43it/s]\n"
     ]
    },
    {
     "name": "stdout",
     "output_type": "stream",
     "text": [
      "Epoch 45, Train Loss: 0.1400, Train Acc: 0.9667, Val Loss: 0.0844, Val Acc: 0.9857\n"
     ]
    },
    {
     "name": "stderr",
     "output_type": "stream",
     "text": [
      "100%|██████████| 477/477 [00:33<00:00, 14.41it/s]\n",
      "100%|██████████| 132/132 [00:02<00:00, 60.84it/s]\n"
     ]
    },
    {
     "name": "stdout",
     "output_type": "stream",
     "text": [
      "Epoch 46, Train Loss: 0.1107, Train Acc: 0.9714, Val Loss: 0.0668, Val Acc: 0.9933\n"
     ]
    },
    {
     "name": "stderr",
     "output_type": "stream",
     "text": [
      "100%|██████████| 477/477 [00:32<00:00, 14.50it/s]\n",
      "100%|██████████| 132/132 [00:02<00:00, 61.08it/s]\n"
     ]
    },
    {
     "name": "stdout",
     "output_type": "stream",
     "text": [
      "Epoch 47, Train Loss: 0.0838, Train Acc: 0.9811, Val Loss: 0.1674, Val Acc: 0.9810\n"
     ]
    },
    {
     "name": "stderr",
     "output_type": "stream",
     "text": [
      "100%|██████████| 477/477 [00:34<00:00, 13.82it/s]\n",
      "100%|██████████| 132/132 [00:02<00:00, 54.06it/s]\n"
     ]
    },
    {
     "name": "stdout",
     "output_type": "stream",
     "text": [
      "Epoch 48, Train Loss: 0.2608, Train Acc: 0.9753, Val Loss: 0.1221, Val Acc: 0.9715\n"
     ]
    },
    {
     "name": "stderr",
     "output_type": "stream",
     "text": [
      "100%|██████████| 477/477 [00:33<00:00, 14.41it/s]\n",
      "100%|██████████| 132/132 [00:02<00:00, 60.09it/s]\n"
     ]
    },
    {
     "name": "stdout",
     "output_type": "stream",
     "text": [
      "Epoch 49, Train Loss: 0.1224, Train Acc: 0.9711, Val Loss: 0.0567, Val Acc: 0.9933\n"
     ]
    },
    {
     "name": "stderr",
     "output_type": "stream",
     "text": [
      "100%|██████████| 477/477 [00:32<00:00, 14.81it/s]\n",
      "100%|██████████| 132/132 [00:02<00:00, 62.82it/s]\n"
     ]
    },
    {
     "name": "stdout",
     "output_type": "stream",
     "text": [
      "Epoch 50, Train Loss: 0.0798, Train Acc: 0.9827, Val Loss: 0.0470, Val Acc: 0.9848\n"
     ]
    },
    {
     "name": "stderr",
     "output_type": "stream",
     "text": [
      "100%|██████████| 477/477 [00:29<00:00, 15.91it/s]\n",
      "100%|██████████| 132/132 [00:02<00:00, 62.05it/s]\n"
     ]
    },
    {
     "name": "stdout",
     "output_type": "stream",
     "text": [
      "Epoch 51, Train Loss: 0.0889, Train Acc: 0.9798, Val Loss: 0.1559, Val Acc: 0.9705\n"
     ]
    },
    {
     "name": "stderr",
     "output_type": "stream",
     "text": [
      "100%|██████████| 477/477 [00:30<00:00, 15.88it/s]\n",
      "100%|██████████| 132/132 [00:02<00:00, 61.98it/s]\n"
     ]
    },
    {
     "name": "stdout",
     "output_type": "stream",
     "text": [
      "Epoch 52, Train Loss: 0.0751, Train Acc: 0.9816, Val Loss: 0.1550, Val Acc: 0.9905\n"
     ]
    },
    {
     "name": "stderr",
     "output_type": "stream",
     "text": [
      "100%|██████████| 477/477 [00:30<00:00, 15.73it/s]\n",
      "100%|██████████| 132/132 [00:02<00:00, 60.76it/s]\n"
     ]
    },
    {
     "name": "stdout",
     "output_type": "stream",
     "text": [
      "Epoch 53, Train Loss: 0.0675, Train Acc: 0.9853, Val Loss: 0.0544, Val Acc: 0.9905\n"
     ]
    },
    {
     "name": "stderr",
     "output_type": "stream",
     "text": [
      "100%|██████████| 477/477 [00:30<00:00, 15.80it/s]\n",
      "100%|██████████| 132/132 [00:02<00:00, 61.70it/s]\n"
     ]
    },
    {
     "name": "stdout",
     "output_type": "stream",
     "text": [
      "Epoch 54, Train Loss: 0.0804, Train Acc: 0.9816, Val Loss: 0.0404, Val Acc: 0.9895\n"
     ]
    },
    {
     "name": "stderr",
     "output_type": "stream",
     "text": [
      "100%|██████████| 477/477 [00:30<00:00, 15.85it/s]\n",
      "100%|██████████| 132/132 [00:02<00:00, 62.24it/s]"
     ]
    },
    {
     "name": "stdout",
     "output_type": "stream",
     "text": [
      "Epoch 55, Train Loss: 0.0825, Train Acc: 0.9835, Val Loss: 0.1428, Val Acc: 0.9819\n"
     ]
    },
    {
     "name": "stderr",
     "output_type": "stream",
     "text": [
      "\n"
     ]
    }
   ],
   "source": [
    "model, history = training_loop(model, criterion, optimizer, dataloaders, EPOCHS=5)\n",
    "model.unfreeze_densenet()\n",
    "model, history = training_loop(model, criterion, optimizer, dataloaders, EPOCHS=55)\n",
    "torch.save(model.state_dict(), f\"results/model_{datetime.datetime.now().strftime('%Y-%m-%d_%H-%M-%S')}_{max(history[2])}.pt\")"
   ]
  },
  {
   "cell_type": "markdown",
   "metadata": {},
   "source": [
    "# Test"
   ]
  },
  {
   "cell_type": "code",
   "execution_count": 88,
   "metadata": {},
   "outputs": [],
   "source": [
    "# model_path: str = \"model_2024-12-08_20-00-00_0.9.pth\"\n",
    "# model.load_state_dict(torch.load(model_path))"
   ]
  }
 ],
 "metadata": {
  "kernelspec": {
   "display_name": ".venv",
   "language": "python",
   "name": "python3"
  },
  "language_info": {
   "codemirror_mode": {
    "name": "ipython",
    "version": 3
   },
   "file_extension": ".py",
   "mimetype": "text/x-python",
   "name": "python",
   "nbconvert_exporter": "python",
   "pygments_lexer": "ipython3",
   "version": "3.11.7"
  }
 },
 "nbformat": 4,
 "nbformat_minor": 2
}
