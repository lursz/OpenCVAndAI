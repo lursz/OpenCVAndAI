{
 "cells": [
  {
   "cell_type": "markdown",
   "metadata": {},
   "source": [
    "## Imports"
   ]
  },
  {
   "cell_type": "code",
   "execution_count": 16,
   "metadata": {},
   "outputs": [],
   "source": [
    "import numpy as np\n",
    "import matplotlib.pyplot as plt\n",
    "import cv2\n",
    "import torch\n",
    "import torch.nn as nn\n",
    "import torchvision\n",
    "from torch.utils.data import Dataset, DataLoader\n",
    "from torch.optim.optimizer import Optimizer\n",
    "from tqdm import tqdm\n",
    "import datetime\n",
    "from sklearn.metrics import f1_score\n",
    "from PIL import Image\n",
    "\n",
    "\n",
    "device = torch.device(\"cuda\" if torch.cuda.is_available() else \"cpu\")\n",
    "CANVAS_SIZE: int = (256, 256)"
   ]
  },
  {
   "cell_type": "markdown",
   "metadata": {},
   "source": [
    "## Visualize"
   ]
  },
  {
   "cell_type": "code",
   "execution_count": 2,
   "metadata": {},
   "outputs": [],
   "source": [
    "def show(img: np.ndarray) -> None:\n",
    "    plt.imshow(img, cmap='gray')\n",
    "    plt.axis('off')\n",
    "    plt.show()"
   ]
  },
  {
   "cell_type": "code",
   "execution_count": 17,
   "metadata": {},
   "outputs": [],
   "source": [
    "def save_img(input_img, target_img, idx):\n",
    "    input_img = Image.fromarray(np.uint8(input_img * 255))  # Assuming input_array is scaled [0,1]\n",
    "    target_img = Image.fromarray(np.uint8(target_img * 255))\n",
    "    \n",
    "    input_filename = f'inputs/input_{idx}.bmp'\n",
    "    input_img.save(input_filename, format='BMP')\n",
    "    \n",
    "    target_filename = f'targets/target_{idx}.bmp'\n",
    "    target_img.save(target_filename, format='BMP')\n",
    "\n",
    "def visualize_ellipses(img1, img2, img3) -> None:    \n",
    "    fig, axs = plt.subplots(1, 3, figsize=(10, 5))\n",
    "    axs[0].imshow(img1, cmap='gray')\n",
    "    axs[0].axis('off')\n",
    "    axs[0].set_title(\"With holes\")\n",
    "    \n",
    "    axs[1].imshow(img2, cmap='gray')\n",
    "    axs[1].axis('off')\n",
    "    axs[1].set_title(\"Target\")\n",
    "    \n",
    "    axs[2].imshow(img3, cmap='gray')\n",
    "    axs[2].axis('off')\n",
    "    axs[2].set_title(\"Autoencoder output\")\n",
    "    plt.show()"
   ]
  },
  {
   "cell_type": "markdown",
   "metadata": {},
   "source": [
    "## Dataset"
   ]
  },
  {
   "cell_type": "code",
   "execution_count": 4,
   "metadata": {},
   "outputs": [],
   "source": [
    "class EllipsesDataset(Dataset):\n",
    "    def __init__(self, transform = None):\n",
    "        self.transform = transform\n",
    "            \n",
    "    def __len__(self) -> int:\n",
    "        return 1000\n",
    "    \n",
    "    def __getitem__(self, idx) -> tuple[torch.Tensor, torch.Tensor]:\n",
    "        target_img = self.__generate_random_ellipse()\n",
    "        input_img = self.__add_random_holes(target_img)\n",
    "        \n",
    "        if self.transform:\n",
    "            target_img = self.transform(target_img)\n",
    "            input_img = self.transform(input_img)\n",
    "        \n",
    "        return input_img, target_img\n",
    "    \n",
    "    \n",
    "    def __generate_random_ellipse(self, img_size: tuple[int, int] = (256,256)) -> np.ndarray:\n",
    "        img = np.zeros(img_size, dtype=np.uint8)\n",
    "        center: tuple[int, int] = (\n",
    "            np.random.randint(int(img_size[0] * 0.2), int(img_size[0] * 0.8)),\n",
    "            np.random.randint(int(img_size[1] * 0.2), int(img_size[1] * 0.8))\n",
    "        )\n",
    "        axes: tuple[int, int] = (\n",
    "            np.random.randint(int(img_size[0] * 0.2), int(img_size[0] * 0.6)),\n",
    "            np.random.randint(int(img_size[1] * 0.2), int(img_size[1] * 0.6))\n",
    "        )\n",
    "        angle: int = np.random.randint(0, 180)\n",
    "        cv2.ellipse(img, center, axes, angle, 0, 360, 255, -1)\n",
    "\n",
    "        # show(img)\n",
    "        return img\n",
    "\n",
    "    def __add_random_holes(self, img: np.ndarray, hole_count: int = 8, max_hole_radius: int = 30) -> np.ndarray:\n",
    "        img = img.copy()\n",
    "        ellipse_points: np.ndarray = np.argwhere(img == 255)\n",
    "\n",
    "        hole_count: int  = np.random.randint(1, hole_count)\n",
    "        for _ in range(hole_count):\n",
    "            if len(ellipse_points) < 50:\n",
    "                break  # otherwise looks like a swiss cheese\n",
    "            \n",
    "            center_y, center_x = ellipse_points[np.random.choice(len(ellipse_points))]\n",
    "            radius = np.random.randint(5, max_hole_radius)\n",
    "            cv2.circle(img, (center_x, center_y), radius, 0, -1)\n",
    "\n",
    "        return img"
   ]
  },
  {
   "cell_type": "markdown",
   "metadata": {},
   "source": [
    "## PyTorch"
   ]
  },
  {
   "cell_type": "code",
   "execution_count": 5,
   "metadata": {},
   "outputs": [],
   "source": [
    "class Autoencoder(nn.Module):\n",
    "    def __init__(self):\n",
    "        super(Autoencoder, self).__init__()\n",
    "        self.encoder = nn.Sequential( # tensor: batch_size, channels, height, width\n",
    "            nn.Conv2d(1, 8, 3, padding=1),  # b, 8, 256, 256\n",
    "            nn.ReLU(True),\n",
    "            nn.Conv2d(8, 32, 3, stride=3, padding=1),  # b, 16, 85, 85\n",
    "            nn.ReLU(True),\n",
    "            nn.MaxPool2d(2, stride=2),  # b, 16, 42, 42\n",
    "            nn.BatchNorm2d(32),\n",
    "            nn.Conv2d(32, 8, 3, stride=2, padding=1),  # b, 8, 21, 21\n",
    "            nn.ReLU(True),\n",
    "            nn.MaxPool2d(2, stride=2), # b, 8, 10, 10\n",
    "            nn.Conv2d(8, 8, 3, stride=2, padding=1),  # b, 8, 5, 5\n",
    "            nn.ReLU(True),\n",
    "            nn.MaxPool2d(2, stride=2)  # b, 8, 3, 3\n",
    "        )\n",
    "        self.decoder = nn.Sequential(\n",
    "            nn.ConvTranspose2d(8, 16, 5, stride=2, output_padding=1, padding=1),  # b, 16, 8, 8\n",
    "            nn.BatchNorm2d(16),\n",
    "            nn.ReLU(True),\n",
    "            nn.ConvTranspose2d(16, 8, 3, stride=2, output_padding=1, padding=1),  # b, 8, 16, 16\n",
    "            nn.ReLU(True),\n",
    "            nn.ConvTranspose2d(8, 8, 3, stride=2, output_padding=1, padding=1),  # b, 8, 32, 32\n",
    "            nn.BatchNorm2d(8),\n",
    "            nn.ReLU(True),\n",
    "            nn.ConvTranspose2d(8, 4, 3, stride=2, output_padding=1, padding=1),  # b, 1, 64, 64\n",
    "            nn.ReLU(True),\n",
    "            nn.ConvTranspose2d(4, 4, 3, stride=2, output_padding=1, padding=1),  # b, 1, 128, 128\n",
    "            nn.BatchNorm2d(4),\n",
    "            nn.ReLU(True),\n",
    "            nn.ConvTranspose2d(4, 4, 3, stride=2, output_padding=1, padding=1),  # b, 1, 256, 256\n",
    "            nn.ReLU(True),\n",
    "            nn.Conv2d(4, 4, 3, stride=1, padding=1),\n",
    "            nn.ReLU(True),\n",
    "            nn.Conv2d(4, 1, 3, stride=1, padding=1),\n",
    "            nn.Sigmoid()\n",
    "        )\n",
    "    \n",
    "    def forward(self, x):\n",
    "        x = self.encoder(x)\n",
    "        x = self.decoder(x)\n",
    "        return x"
   ]
  },
  {
   "cell_type": "code",
   "execution_count": 6,
   "metadata": {},
   "outputs": [],
   "source": [
    "def train_model(model: Autoencoder, criterion: torch.nn.Module, optimizer: Optimizer, dataloader: dict, EPOCHS=5) -> tuple[Autoencoder, dict[str, list]]:\n",
    "    loss_history: list = []\n",
    "    accuracy_history: list = []\n",
    "\n",
    "    for epoch in range(EPOCHS):\n",
    "        running_loss: float = 0.0\n",
    "        running_corrects: int = 0\n",
    "        total_pixels: int = 0\n",
    "        \n",
    "        # Training\n",
    "        model.train()\n",
    "        for inputs, targets in tqdm(dataloader['train']):\n",
    "            inputs = inputs.to(device)\n",
    "            targets = targets.to(device)\n",
    "            \n",
    "            optimizer.zero_grad()\n",
    "            outputs = model(inputs)\n",
    "            loss = criterion(outputs, targets)\n",
    "            loss.backward()\n",
    "            optimizer.step()\n",
    "            \n",
    "            # loss\n",
    "            running_loss += loss.item()\n",
    "            # accuracy (how many pixels are correctly predicted)\n",
    "            preds = (outputs > 0.5).float()\n",
    "            running_corrects += torch.sum(preds == targets)\n",
    "            total_pixels += targets.numel()\n",
    "        \n",
    "        epoch_loss = running_loss / len(dataloader['train'])\n",
    "        epoch_accuracy = running_corrects.double() / total_pixels\n",
    "        loss_history.append(epoch_loss)\n",
    "        accuracy_history.append(epoch_accuracy.item())\n",
    "        \n",
    "        visualize_ellipses(inputs[0].cpu().detach().numpy().squeeze(), targets[0].cpu().detach().numpy().squeeze(), outputs[0].cpu().detach().numpy().squeeze())\n",
    "        \n",
    "        print(f'Epoch {epoch+1}/{EPOCHS} Loss: {epoch_loss:.4f} Accuracy: {epoch_accuracy:.4f}')\n",
    "        \n",
    "    history: dict[str, list] = {\n",
    "        'loss': loss_history,\n",
    "        'accuracy': accuracy_history,\n",
    "    }\n",
    "    return model, history"
   ]
  },
  {
   "cell_type": "markdown",
   "metadata": {},
   "source": [
    "## Train"
   ]
  },
  {
   "cell_type": "code",
   "execution_count": 7,
   "metadata": {},
   "outputs": [],
   "source": [
    "transform = torchvision.transforms.Compose(transforms=[\n",
    "    torchvision.transforms.ToTensor()\n",
    "])\n",
    "\n",
    "datasets: dict[str, Dataset] = {\n",
    "    'train': EllipsesDataset(transform=transform),\n",
    "    'test': EllipsesDataset(transform=transform)\n",
    "}\n",
    "\n",
    "dataloaders: dict[str, DataLoader] = {\n",
    "    'train': DataLoader(datasets['train'], batch_size=32, shuffle=True),\n",
    "    'test': DataLoader(datasets['test'], batch_size=32, shuffle=False)\n",
    "}\n",
    "\n",
    "model = Autoencoder().to(device)\n",
    "criterion = nn.BCELoss()\n",
    "optimizer = torch.optim.Adam(model.parameters(), lr=0.001)"
   ]
  },
  {
   "cell_type": "code",
   "execution_count": 8,
   "metadata": {},
   "outputs": [],
   "source": [
    "# model, history = train_model(model, criterion, optimizer, dataloaders, EPOCHS=5000)\n",
    "# torch.save(model.state_dict(), f'results/autoencoder_{datetime.datetime.now().strftime(\"%Y-%m-%d\")}_{history[\"accuracy\"][-1]}.pt')"
   ]
  },
  {
   "cell_type": "markdown",
   "metadata": {},
   "source": [
    "## Load & Run"
   ]
  },
  {
   "cell_type": "code",
   "execution_count": null,
   "metadata": {},
   "outputs": [],
   "source": [
    "model_name: str = 'autoencoder_2024-11-25_0.9894749908447266'\n",
    "autoencoder = Autoencoder()\n",
    "autoencoder.load_state_dict(torch.load(f'results/{model_name}.pt', map_location=torch.device('cpu')))\n",
    "autoencoder.to(device)\n",
    "\n",
    "# Test\n",
    "all_targets = np.array([])\n",
    "all_outputs = np.array([])\n",
    "\n",
    "autoencoder.eval()\n",
    "with torch.no_grad():\n",
    "    for i, (inputs, targets) in enumerate(dataloaders['test']):\n",
    "        if i > 20:\n",
    "            break\n",
    "        inputs = inputs.to(device)\n",
    "        targets = targets.to(device)\n",
    "        outputs = autoencoder(inputs)\n",
    "\n",
    "        outputs = (outputs > 0.5).float()\n",
    "        visualize_ellipses(inputs[0].cpu().detach().numpy().squeeze(), targets[0].cpu().detach().numpy().squeeze(), outputs[0].cpu().detach().numpy().squeeze())\n",
    "        # save_img(inputs[0].cpu().detach().numpy().squeeze(), targets[0].cpu().detach().numpy().squeeze(), i)\n",
    "        all_targets = np.concatenate([all_targets, targets.cpu().detach().numpy().flatten()])\n",
    "        all_outputs = np.concatenate([all_outputs, outputs.cpu().detach().numpy().flatten()])\n",
    "\n",
    "f1 = f1_score(all_targets, all_outputs)\n",
    "print(f'F1 Score: {f1}')"
   ]
  },
  {
   "cell_type": "markdown",
   "metadata": {},
   "source": [
    "## Test"
   ]
  },
  {
   "cell_type": "code",
   "execution_count": 26,
   "metadata": {},
   "outputs": [
    {
     "name": "stderr",
     "output_type": "stream",
     "text": [
      "/var/folders/q8/_wsl_9ys3zs1fzf1r5t3yzyw0000gn/T/ipykernel_27825/52283967.py:21: FutureWarning: You are using `torch.load` with `weights_only=False` (the current default value), which uses the default pickle module implicitly. It is possible to construct malicious pickle data which will execute arbitrary code during unpickling (See https://github.com/pytorch/pytorch/blob/main/SECURITY.md#untrusted-models for more details). In a future release, the default value for `weights_only` will be flipped to `True`. This limits the functions that could be executed during unpickling. Arbitrary objects will no longer be allowed to be loaded via this mode unless they are explicitly allowlisted by the user via `torch.serialization.add_safe_globals`. We recommend you start setting `weights_only=True` for any use case where you don't have full control of the loaded file. Please open an issue on GitHub for any issues related to this experimental feature.\n",
      "  autoencoder.load_state_dict(torch.load(f'results/{model_name}.pt', map_location=torch.device('cpu')))\n"
     ]
    },
    {
     "data": {
      "image/png": "[encoded data removed]",
      "text/plain": [
       "<Figure size 1000x500 with 3 Axes>"
      ]
     },
     "metadata": {},
     "output_type": "display_data"
    },
    {
     "data": {
      "image/png": "[encoded data removed]",
      "text/plain": [
       "<Figure size 1000x500 with 3 Axes>"
      ]
     },
     "metadata": {},
     "output_type": "display_data"
    },
    {
     "data": {
      "image/png": "[encoded data removed]",
      "text/plain": [
       "<Figure size 1000x500 with 3 Axes>"
      ]
     },
     "metadata": {},
     "output_type": "display_data"
    },
    {
     "name": "stdout",
     "output_type": "stream",
     "text": [
      "############################\n",
      "FINAL RESULTS:\n",
      "\n",
      "\n",
      "F1 Score: 0.9871489942290318\n",
      "\n",
      "\n",
      "############################\n"
     ]
    }
   ],
   "source": [
    "import os\n",
    "from torchvision import transforms\n",
    "\n",
    "def load_image(path):\n",
    "    with Image.open(path) as img:\n",
    "        return img.convert('L')\n",
    "\n",
    "transform = transforms.Compose([\n",
    "    transforms.Resize((256, 256)),\n",
    "    transforms.ToTensor()\n",
    "])\n",
    "\n",
    "input_folder = 'inputs'\n",
    "target_folder = 'targets'\n",
    "\n",
    "input_files = sorted([os.path.join(input_folder, f) for f in os.listdir(input_folder) if f.endswith('.bmp')])\n",
    "target_files = sorted([os.path.join(target_folder, f) for f in os.listdir(target_folder) if f.endswith('.bmp')])\n",
    "\n",
    "model_name: str = 'autoencoder_2024-11-25_0.9894749908447266'\n",
    "autoencoder = Autoencoder()\n",
    "autoencoder.load_state_dict(torch.load(f'results/{model_name}.pt', map_location=torch.device('cpu')))\n",
    "autoencoder.to(device)\n",
    "\n",
    "all_targets = np.array([])\n",
    "all_outputs = np.array([])\n",
    "\n",
    "autoencoder.eval()\n",
    "with torch.no_grad():\n",
    "    for input_path, target_path in zip(input_files, target_files):\n",
    "        input_img = load_image(input_path)\n",
    "        target_img = load_image(target_path)\n",
    "        \n",
    "        inputs = transform(input_img).unsqueeze(0).to(device)\n",
    "        targets = transform(target_img).unsqueeze(0).to(device)\n",
    "        \n",
    "        outputs = autoencoder(inputs)\n",
    "        outputs = (outputs > 0.5).float()\n",
    "        \n",
    "        # UNCOMMENT TO SEE IMAGES\n",
    "        # visualize_ellipses(inputs[0].cpu().detach().numpy().squeeze(), targets[0].cpu().detach().numpy().squeeze(), outputs[0].cpu().detach().numpy().squeeze())\n",
    "        \n",
    "        all_targets = np.concatenate([all_targets, targets.cpu().detach().numpy().flatten()])\n",
    "        all_outputs = np.concatenate([all_outputs, outputs.cpu().detach().numpy().flatten()])\n",
    "\n",
    "f1 = f1_score(all_targets, all_outputs)\n",
    "\n",
    "print(\"############################\")\n",
    "print(\"FINAL RESULTS:\")\n",
    "print(\"\\n\")\n",
    "print(f'F1 Score: {f1}')\n",
    "print(\"\\n\")\n",
    "print(\"############################\")\n"
   ]
  }
 ],
 "metadata": {
  "kernelspec": {
   "display_name": "venv",
   "language": "python",
   "name": "python3"
  },
  "language_info": {
   "codemirror_mode": {
    "name": "ipython",
    "version": 3
   },
   "file_extension": ".py",
   "mimetype": "text/x-python",
   "name": "python",
   "nbconvert_exporter": "python",
   "pygments_lexer": "ipython3",
   "version": "3.9.6"
  }
 },
 "nbformat": 4,
 "nbformat_minor": 2
}
