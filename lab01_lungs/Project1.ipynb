{
 "cells": [
  {
   "cell_type": "markdown",
   "id": "5f9335cd",
   "metadata": {},
   "source": [
    "# Lungs Segmentation\n",
    "The segmentation of lungs may, possibly, proceed directly in 3D as follows:\n",
    "1. Run binarization of the CT image using a threshold of -320 HU – every voxel\n",
    "with HU lower than this threshold should receive label 1 (air label) and the\n",
    "remaining voxels should receive label 0\n",
    "2. Use body mask to select only air regions within body\n",
    "3. Design a sequence of morphological (and other appropriate) operations to fill\n",
    "the holes in the interior of lungs and to remove ‘air’ clusters which do not\n",
    "correspond to lungs (e.g. gas in bowels) – at the end one should be left with\n",
    "clusters which correspond only to airways\n",
    "4. Use watershed from markers (scikit-image -> segmentation -> watershed) to\n",
    "extract the left and the right lung from the segmentation being the result of step\n",
    "(3) above. Before using watershed design a procedure for defining the three\n",
    "markers (marker of left lung, marker of right lung, marker of background).\n",
    "5. To compare segmentation results with reference segmentations available at\n",
    "Lab One Drive use Dice coefficient and Hausdorff distance (find the definitions of\n",
    "these   quantities)   as   implemented   in   surface-distance   [package](https://github.com/google-deepmind/surface-distance).\n",
    "The project results (Dice coefficients and Hausdorff distance) should be\n",
    "reported   for   the   three   tasks:   body   mask   segmentation,   left   lung\n",
    "segmentation, right lung segmentation.\n"
   ]
  },
  {
   "cell_type": "markdown",
   "id": "c574f0ef",
   "metadata": {},
   "source": [
    "## Imports"
   ]
  },
  {
   "cell_type": "code",
   "execution_count": 155,
   "id": "fa0823d5-19e4-4f17-9bf8-8950f9e194bc",
   "metadata": {},
   "outputs": [],
   "source": [
    "import numpy as np\n",
    "import nibabel as nib\n",
    "import cv2\n",
    "from skimage import morphology, measure\n",
    "from skimage.segmentation import watershed\n",
    "from skimage import filters\n",
    "from scipy import ndimage\n",
    "import matplotlib.pyplot as plt\n",
    "# from pycimg import CImg\n",
    "\n",
    "import numpy as np\n",
    "from skimage.measure import label, regionprops\n",
    "from skimage.morphology import reconstruction\n",
    "from skimage.segmentation import flood, flood_fill\n"
   ]
  },
  {
   "cell_type": "markdown",
   "id": "dc6afc10",
   "metadata": {},
   "source": [
    "## Load / save .nii files and Visualization"
   ]
  },
  {
   "cell_type": "code",
   "execution_count": 156,
   "id": "60dc8ec5",
   "metadata": {},
   "outputs": [],
   "source": [
    "def load_nii_gz_file(file_path: str) -> tuple:\n",
    "    nii_img = nib.load(file_path)\n",
    "    nii_data = nii_img.get_fdata()\n",
    "    return nii_data, nii_img.affine\n",
    "\n",
    "def save_to_nii(segmented_data: np.ndarray, affine: np.ndarray, output_path: str) -> None:\n",
    "    segmented_nii = nib.Nifti1Image(segmented_data.astype(np.uint8), affine)\n",
    "    nib.save(segmented_nii, output_path)\n",
    "    \n",
    "def view_nii_data(nii_data: np.ndarray) -> None:\n",
    "    for i in range(nii_data.shape[2]):\n",
    "        cv2.imshow('slice', nii_data[:, :, i])\n",
    "        cv2.waitKey(0)\n",
    "    cv2.destroyAllWindows()\n",
    "    \n",
    "def visualize_photos(original: np.ndarray, segmented: np.ndarray, reference: np.ndarray, *slices: int) -> None:\n",
    "    num_slices = len(slices)\n",
    "    plt.figure(figsize=(15, 5 * num_slices))  # Adjust figure size based on the number of slices\n",
    "\n",
    "    for i, slice_num in enumerate(slices):\n",
    "        # Original slice\n",
    "        plt.subplot(num_slices, 3, 3 * i + 1)\n",
    "        plt.title(f\"Original Slice {slice_num}\")\n",
    "        plt.imshow(original[:, :, slice_num], cmap=\"gray\")\n",
    "        \n",
    "        # Segmented slice\n",
    "        plt.subplot(num_slices, 3, 3 * i + 2)\n",
    "        plt.title(f\"Segmented Slice {slice_num}\")\n",
    "        plt.imshow(segmented[:, :, slice_num], cmap=\"gray\")\n",
    "        \n",
    "        # Reference slice\n",
    "        plt.subplot(num_slices, 3, 3 * i + 3)\n",
    "        plt.title(f\"Reference Slice {slice_num}\")\n",
    "        plt.imshow(reference[:, :, slice_num], cmap=\"gray\")\n",
    "\n",
    "    plt.tight_layout() \n",
    "    plt.show()"
   ]
  },
  {
   "cell_type": "markdown",
   "id": "3c9bca1e",
   "metadata": {},
   "source": [
    "## 1. Body differentiation"
   ]
  },
  {
   "cell_type": "code",
   "execution_count": 157,
   "id": "49834f6f",
   "metadata": {},
   "outputs": [],
   "source": [
    "class Transforms:\n",
    "    def __init__(self):\n",
    "        pass\n",
    "        \n",
    "    def binarize_images(self, image: np.ndarray, threshold: float = -320, use_otsu: bool = False) -> np.ndarray:\n",
    "        threshold = filters.threshold_otsu(image) if use_otsu else threshold\n",
    "        image = np.where(image < threshold, 1, 0)\n",
    "        return image.astype(np.uint8)\n",
    "    \n",
    "    def binarize_images_dual_threshold(self, image: np.ndarray, body_mask: np.ndarray, low_threshold: float = -320, high_threshold: float = -100) -> np.ndarray:\n",
    "        return (image > low_threshold) * (image < high_threshold) * body_mask\n",
    "    \n",
    "    def binarize_images_kmeans(self, image: np.ndarray, max_iter: int = 100) -> float:\n",
    "        min_val = image.min()\n",
    "        not_background = image > min_val\n",
    "        img_not_background = image * not_background\n",
    "        \n",
    "        threshold = img_not_background.sum() / not_background.sum()\n",
    "        prev_threshold = 0\n",
    "        \n",
    "        for _ in range(max_iter):\n",
    "            foreground_mask = image > threshold\n",
    "            background_mask = image <= threshold\n",
    "            \n",
    "            foreground = img_not_background * foreground_mask\n",
    "            background = img_not_background * background_mask\n",
    "            \n",
    "            avg_foreground = foreground.sum() / foreground_mask.sum()\n",
    "            avg_background = background.sum() / background_mask.sum()\n",
    "            \n",
    "            new_threshold = (avg_foreground + avg_background) / 2\n",
    "            \n",
    "            if abs(new_threshold - prev_threshold) < 0.1:\n",
    "                threshold = new_threshold\n",
    "                break\n",
    "            \n",
    "            prev_threshold = threshold\n",
    "            threshold = new_threshold\n",
    "        \n",
    "        print(f\"threshold: {threshold}\")\n",
    "            \n",
    "        image = (image > threshold) * not_background\n",
    "        \n",
    "        return image.astype(np.uint8)"
   ]
  },
  {
   "cell_type": "code",
   "execution_count": 158,
   "id": "f1cb0fd1",
   "metadata": {},
   "outputs": [],
   "source": [
    "class BodyMask(Transforms):\n",
    "    def __init__(self, image: np.ndarray) -> None:\n",
    "        self.img: np.ndarray = image\n",
    "        \n",
    "    def initial_transform(self) -> np.ndarray:\n",
    "        binary_image = self.binarize_images_kmeans(self.img)\n",
    "        opened_img = morphology.binary_opening(binary_image, morphology.ball(2))\n",
    "        \n",
    "        # visualize_photos(self.img, opened_img, self.img, 30, 60, 90, 110)\n",
    "        self.img = opened_img\n",
    "        \n",
    "    \n",
    "    def reconstruct_3d(self) -> np.ndarray:\n",
    "        labels = label(self.img, connectivity=1)\n",
    "        regions = regionprops(labels)\n",
    "        largest_region = max(regions, key=lambda x: x.area)\n",
    "        largest_region_mask = labels == largest_region.label\n",
    "        \n",
    "        mask = largest_region_mask\n",
    "        neg_mask = np.logical_not(mask)\n",
    "        \n",
    "        seed = np.zeros_like(mask)\n",
    "        list_of_corners = [(0, 0, 0), (0, 0, -1), (0, -1, 0), (-1, 0, 0), (-1, -1, -1), (-1, -1, 0), (-1, 0, -1), (0, -1, -1)]\n",
    "        for corner in list_of_corners:\n",
    "            seed[corner] = 1\n",
    "        \n",
    "        reconstructed = reconstruction(seed, neg_mask)\n",
    "        insert_part = 1 - reconstructed\n",
    "        \n",
    "        return insert_part\n",
    "    \n",
    "    def flood_fill_3d(self, seed_point: tuple = (0, 0, 0)) -> np.ndarray:\n",
    "        labels = label(self.img, connectivity=1)\n",
    "        regions = regionprops(labels)\n",
    "        largest_region = max(regions, key=lambda x: x.area)\n",
    "        \n",
    "        neg_mask = (labels == largest_region.label) * 1\n",
    "        mask = flood(neg_mask, seed_point)\n",
    "        mask = np.logical_not(mask)\n",
    "        return mask\n"
   ]
  },
  {
   "cell_type": "markdown",
   "id": "582c0f10",
   "metadata": {},
   "source": [
    "## Lung segmentation"
   ]
  },
  {
   "cell_type": "code",
   "execution_count": 159,
   "id": "ea5f3aec",
   "metadata": {},
   "outputs": [],
   "source": [
    "class LungSegmentation(Transforms):\n",
    "    def __init__(self, image: np.ndarray, body_mask: np.ndarray) -> None:\n",
    "        self.og_img: np.ndarray = image[:]\n",
    "        self.img: np.ndarray = image\n",
    "        self.body_mask: np.ndarray = body_mask\n",
    "        \n",
    "    def histogram(self) -> None:\n",
    "        plt.hist(self.img.ravel(), bins=256, range=(self.img.min()+1, self.img.max()-1), fc='k', ec='k')\n",
    "        plt.show()\n",
    "        \n",
    "    def __cut_out_body(self) -> np.ndarray:\n",
    "        min_val = self.img.min()\n",
    "        self.img = self.img * self.body_mask + min_val * (1 - self.body_mask)\n",
    "        \n",
    "    def __find_lung_histogram_peak(self) -> float:\n",
    "        histogram = np.histogram(self.img, bins=256, range=(self.img.min()+1, -200))\n",
    "        lung_peak_index = np.argmax(histogram[0][1:]) + 1\n",
    "        lung_peak_value = histogram[1][lung_peak_index]\n",
    "        return lung_peak_value\n",
    "\n",
    "    def initial_transform(self) -> np.ndarray:\n",
    "        self.__cut_out_body()\n",
    "        \n",
    "        # binarization\n",
    "        self.histogram()\n",
    "        lung_peak_value = self.__find_lung_histogram_peak()\n",
    "        binary_image = self.binarize_images_dual_threshold(self.img, self.body_mask, max(lung_peak_value - 100, self.img.min() + 1), lung_peak_value + 100)\n",
    "        \n",
    "        # fill holes\n",
    "        binary_image = ndimage.binary_fill_holes(binary_image)\n",
    "        binary_image = morphology.binary_closing(binary_image, morphology.ball(3))\n",
    "        binary_image = morphology.binary_dilation(binary_image, morphology.ball(2))\n",
    "        self.img = binary_image\n",
    "        \n",
    "    def remove_trachea(self, trachea_histogram_value: int = -950) -> np.ndarray:\n",
    "        # reverse binarization\n",
    "        min_value = self.og_img.min()\n",
    "        self.img = self.img * self.og_img + min_value * (1 - self.img)\n",
    "\n",
    "        # find trachea using density histogram\n",
    "        trachea_mask = (self.img < trachea_histogram_value) * (self.img > min_value)\n",
    "\n",
    "        # find largest region\n",
    "        labels = label(trachea_mask, connectivity=1)\n",
    "        regions = regionprops(labels)\n",
    "        largest_region = max(regions, key=lambda x: x.area)\n",
    "        trachea_mask = labels == largest_region.label\n",
    "        trachea_mask = morphology.binary_dilation(trachea_mask, morphology.ball(2))\n",
    "        \n",
    "        # anchor points for flood fill\n",
    "        trachea_image = self.img * trachea_mask + self.img.max() * (1 - trachea_mask)\n",
    "        anchor_points = np.argmax(trachea_image)\n",
    "        anchor_points = np.unravel_index(anchor_points, trachea_mask.shape)\n",
    "        trachea_mask = flood_fill(trachea_mask, anchor_points, 0)\n",
    "        \n",
    "        without_trachea = (self.img > min_value) * (1 - trachea_mask)\n",
    "        without_trachea_opened = morphology.binary_opening(without_trachea, morphology.ball(2))\n",
    "        self.img = without_trachea_opened\n",
    "        \n",
    "        \n",
    "        # remove trachea\n",
    "        # self.img = without_trachea_opened * self.img + min_value * (1 - without_trachea_opened)\n",
    "        \n",
    "        plt.title('Trachea Mask largest region')\n",
    "        plt.imshow(trachea_mask[..., 80], cmap='gray')\n",
    "        plt.show()\n",
    "        \n",
    "    def watershed_segmentation(self) -> np.ndarray:\n",
    "        self.img"
   ]
  },
  {
   "cell_type": "markdown",
   "id": "2124c272",
   "metadata": {},
   "source": [
    "## Main"
   ]
  },
  {
   "cell_type": "code",
   "execution_count": 160,
   "id": "79be8a4c",
   "metadata": {},
   "outputs": [],
   "source": [
    "def main(img_path: str,reference_img_path: str, body_mask_path: str, output_path: str, ) -> None:\n",
    "    # load images\n",
    "    img, affine = load_nii_gz_file(img_path)\n",
    "    body_masks, _ = load_nii_gz_file(body_mask_path)\n",
    "    reference_img, _ = load_nii_gz_file(reference_img_path)\n",
    "\n",
    "    # transform\n",
    "    body = BodyMask(img)\n",
    "    body.initial_transform()\n",
    "    body_mask = body.reconstruct_3d()\n",
    "    \n",
    "    lungs = LungSegmentation(img, body_mask)\n",
    "    lungs.initial_transform()\n",
    "    # lungs_mask = lungs.watershed_segmentation()\n",
    "    lungs.remove_trachea()\n",
    "    pic = lungs.watershed_segmentation()\n",
    "    \n",
    "    # visualize_photos(body_mask, body_masks, abs(body_mask - body_masks), 50, 70, 100, 120)\n",
    "    visualize_photos(pic, reference_img, abs(pic - (reference_img > 1) * 1), 50, 70, 100, 120)"
   ]
  },
  {
   "cell_type": "markdown",
   "id": "8fa21911",
   "metadata": {},
   "source": [
    "## Run code"
   ]
  },
  {
   "cell_type": "code",
   "execution_count": 161,
   "id": "91c399b6",
   "metadata": {},
   "outputs": [
    {
     "name": "stdout",
     "output_type": "stream",
     "text": [
      "threshold: -303.1636516587556\n"
     ]
    },
    {
     "data": {
      "image/png": "[encoded data removed]",
      "text/plain": [
       "<Figure size 640x480 with 1 Axes>"
      ]
     },
     "metadata": {},
     "output_type": "display_data"
    },
    {
     "data": {
      "image/png": "[encoded data removed]",
      "text/plain": [
       "<Figure size 640x480 with 1 Axes>"
      ]
     },
     "metadata": {},
     "output_type": "display_data"
    },
    {
     "ename": "TypeError",
     "evalue": "local_maxima() got an unexpected keyword argument 'labels'",
     "output_type": "error",
     "traceback": [
      "\u001b[0;31m---------------------------------------------------------------------------\u001b[0m",
      "\u001b[0;31mTypeError\u001b[0m                                 Traceback (most recent call last)",
      "Cell \u001b[0;32mIn[161], line 1\u001b[0m\n\u001b[0;32m----> 1\u001b[0m \u001b[43mmain\u001b[49m\u001b[43m(\u001b[49m\u001b[38;5;124;43m'\u001b[39;49m\u001b[38;5;124;43mImages/IMG_0001.nii.gz\u001b[39;49m\u001b[38;5;124;43m'\u001b[39;49m\u001b[43m,\u001b[49m\u001b[38;5;124;43m'\u001b[39;49m\u001b[38;5;124;43mReferenceSegmentations/LUNGS_IMG_0001.nii.gz\u001b[39;49m\u001b[38;5;124;43m'\u001b[39;49m\u001b[43m,\u001b[49m\u001b[43m \u001b[49m\u001b[38;5;124;43m'\u001b[39;49m\u001b[38;5;124;43mBodyMasks/BODYMASK_IMG_0001.nii.gz\u001b[39;49m\u001b[38;5;124;43m'\u001b[39;49m\u001b[43m,\u001b[49m\u001b[43m \u001b[49m\u001b[38;5;124;43m'\u001b[39;49m\u001b[38;5;124;43moutput.nii.gz\u001b[39;49m\u001b[38;5;124;43m'\u001b[39;49m\u001b[43m)\u001b[49m\n",
      "Cell \u001b[0;32mIn[160], line 16\u001b[0m, in \u001b[0;36mmain\u001b[0;34m(img_path, reference_img_path, body_mask_path, output_path)\u001b[0m\n\u001b[1;32m     14\u001b[0m \u001b[38;5;66;03m# lungs_mask = lungs.watershed_segmentation()\u001b[39;00m\n\u001b[1;32m     15\u001b[0m lungs\u001b[38;5;241m.\u001b[39mremove_trachea()\n\u001b[0;32m---> 16\u001b[0m pic \u001b[38;5;241m=\u001b[39m \u001b[43mlungs\u001b[49m\u001b[38;5;241;43m.\u001b[39;49m\u001b[43mwatershed_segmentation\u001b[49m\u001b[43m(\u001b[49m\u001b[43m)\u001b[49m\n\u001b[1;32m     18\u001b[0m \u001b[38;5;66;03m# visualize_photos(body_mask, body_masks, abs(body_mask - body_masks), 50, 70, 100, 120)\u001b[39;00m\n\u001b[1;32m     19\u001b[0m visualize_photos(pic, reference_img, \u001b[38;5;28mabs\u001b[39m(pic \u001b[38;5;241m-\u001b[39m (reference_img \u001b[38;5;241m>\u001b[39m \u001b[38;5;241m1\u001b[39m) \u001b[38;5;241m*\u001b[39m \u001b[38;5;241m1\u001b[39m), \u001b[38;5;241m50\u001b[39m, \u001b[38;5;241m70\u001b[39m, \u001b[38;5;241m100\u001b[39m, \u001b[38;5;241m120\u001b[39m)\n",
      "Cell \u001b[0;32mIn[159], line 68\u001b[0m, in \u001b[0;36mLungSegmentation.watershed_segmentation\u001b[0;34m(self)\u001b[0m\n\u001b[1;32m     66\u001b[0m \u001b[38;5;28;01mdef\u001b[39;00m \u001b[38;5;21mwatershed_segmentation\u001b[39m(\u001b[38;5;28mself\u001b[39m) \u001b[38;5;241m-\u001b[39m\u001b[38;5;241m>\u001b[39m np\u001b[38;5;241m.\u001b[39mndarray:\n\u001b[1;32m     67\u001b[0m     distance \u001b[38;5;241m=\u001b[39m ndimage\u001b[38;5;241m.\u001b[39mdistance_transform_edt(\u001b[38;5;28mself\u001b[39m\u001b[38;5;241m.\u001b[39mimg)\n\u001b[0;32m---> 68\u001b[0m     local_maxi \u001b[38;5;241m=\u001b[39m \u001b[43mmorphology\u001b[49m\u001b[38;5;241;43m.\u001b[39;49m\u001b[43mlocal_maxima\u001b[49m\u001b[43m(\u001b[49m\u001b[43mdistance\u001b[49m\u001b[43m,\u001b[49m\u001b[43m \u001b[49m\u001b[43mlabels\u001b[49m\u001b[38;5;241;43m=\u001b[39;49m\u001b[38;5;28;43mself\u001b[39;49m\u001b[38;5;241;43m.\u001b[39;49m\u001b[43mimg\u001b[49m\u001b[43m,\u001b[49m\u001b[43m \u001b[49m\u001b[43mindices\u001b[49m\u001b[38;5;241;43m=\u001b[39;49m\u001b[38;5;28;43;01mFalse\u001b[39;49;00m\u001b[43m)\u001b[49m\n\u001b[1;32m     69\u001b[0m     markers \u001b[38;5;241m=\u001b[39m measure\u001b[38;5;241m.\u001b[39mlabel(local_maxi)\n\u001b[1;32m     70\u001b[0m     labels \u001b[38;5;241m=\u001b[39m watershed(\u001b[38;5;241m-\u001b[39mdistance, markers, mask\u001b[38;5;241m=\u001b[39m\u001b[38;5;28mself\u001b[39m\u001b[38;5;241m.\u001b[39mimg)\n",
      "\u001b[0;31mTypeError\u001b[0m: local_maxima() got an unexpected keyword argument 'labels'"
     ]
    }
   ],
   "source": [
    "main('Images/IMG_0001.nii.gz','ReferenceSegmentations/LUNGS_IMG_0001.nii.gz', 'BodyMasks/BODYMASK_IMG_0001.nii.gz', 'output.nii.gz')\n"
   ]
  }
 ],
 "metadata": {
  "kernelspec": {
   "display_name": ".venv",
   "language": "python",
   "name": "python3"
  },
  "language_info": {
   "codemirror_mode": {
    "name": "ipython",
    "version": 3
   },
   "file_extension": ".py",
   "mimetype": "text/x-python",
   "name": "python",
   "nbconvert_exporter": "python",
   "pygments_lexer": "ipython3",
   "version": "3.12.2"
  }
 },
 "nbformat": 4,
 "nbformat_minor": 5
}
