{
 "cells": [
  {
   "cell_type": "code",
   "execution_count": 9,
   "id": "fa0823d5-19e4-4f17-9bf8-8950f9e194bc",
   "metadata": {},
   "outputs": [],
   "source": [
    "import numpy as np\n",
    "import os\n",
    "import glob\n",
    "import math\n",
    "import nibabel as nib\n",
    "import cv2\n",
    "\n",
    "# from pycimg import CImg\n",
    "from skimage import measure\n",
    "from skimage import morphology\n",
    "from scipy import ndimage\n",
    "from scipy.spatial import ConvexHull\n"
   ]
  },
  {
   "cell_type": "markdown",
   "id": "dd265d00",
   "metadata": {},
   "source": [
    "## Nii.gz to .jpg converter"
   ]
  },
  {
   "cell_type": "code",
   "execution_count": 10,
   "id": "38721960",
   "metadata": {},
   "outputs": [],
   "source": [
    "import nibabel as nib\n",
    "import numpy as np\n",
    "import matplotlib.pyplot as plt\n",
    "import os\n",
    "\n",
    "def nii_to_jpg(nii_file: str, output_dir: str) -> None:\n",
    "    img = nib.load(nii_file)\n",
    "    img_data = img.get_fdata()\n",
    "    \n",
    "    if not os.path.exists(output_dir):\n",
    "        os.makedirs(output_dir)\n",
    "\n",
    "    # Iterate over each slice in the third dimension (axial slices)\n",
    "    for i in range(img_data.shape[2]):\n",
    "        # Get the i-th slice\n",
    "        slice_data = img_data[:, :, i]\n",
    "        slice_normalized = ((slice_data - np.min(slice_data)) / (np.max(slice_data) - np.min(slice_data)) * 255).astype(np.uint8)\n",
    "        output_file = os.path.join(output_dir, f\"slice_{i:03d}.jpg\")\n",
    "        plt.imsave(output_file, slice_normalized, cmap='gray')"
   ]
  },
  {
   "cell_type": "code",
   "execution_count": null,
   "id": "dcdf19fa",
   "metadata": {},
   "outputs": [],
   "source": [
    "for path in ['Images/IMG_0001.nii.gz', 'Images/IMG_0007.nii.gz', 'Images/IMG_0010.nii.gz', 'Images/IMG_0011.nii.gz', 'Images/IMG_0012.nii.gz', 'Images/IMG_0013.nii.gz', 'Images/IMG_0014.nii.gz']:\n",
    "    output_dir = path.split('/')[-1].split('.')[0]\n",
    "    nii_to_jpg(path, f\"input/{output_dir}\")"
   ]
  },
  {
   "cell_type": "code",
   "execution_count": 12,
   "id": "eb0cfb31-f15c-4c5d-a3ad-c24fbde97b54",
   "metadata": {},
   "outputs": [
    {
     "name": "stderr",
     "output_type": "stream",
     "text": [
      "/tmp/ipykernel_7635/4277497730.py:17: RuntimeWarning: invalid value encountered in divide\n",
      "  slice_normalized = ((slice_data - np.min(slice_data)) / (np.max(slice_data) - np.min(slice_data)) * 255).astype(np.uint8)\n",
      "/tmp/ipykernel_7635/4277497730.py:17: RuntimeWarning: invalid value encountered in cast\n",
      "  slice_normalized = ((slice_data - np.min(slice_data)) / (np.max(slice_data) - np.min(slice_data)) * 255).astype(np.uint8)\n"
     ]
    }
   ],
   "source": [
    "for path in ['ReferenceSegmentations/LUNGS_IMG_0001.nii.gz', 'ReferenceSegmentations/LUNGS_IMG_0007.nii.gz', 'ReferenceSegmentations/LUNGS_IMG_0010.nii.gz', 'ReferenceSegmentations/LUNGS_IMG_0011.nii.gz', 'ReferenceSegmentations/LUNGS_IMG_0012.nii.gz', 'ReferenceSegmentations/LUNGS_IMG_0013.nii.gz', 'ReferenceSegmentations/LUNGS_IMG_0014.nii.gz']:\n",
    "    output_dir = path.split('/')[-1].split('.')[0]\n",
    "    nii_to_jpg(path, f\"output/{output_dir}\")\n"
   ]
  },
  {
   "cell_type": "markdown",
   "id": "3c9bca1e",
   "metadata": {},
   "source": [
    "## Segmentation"
   ]
  },
  {
   "cell_type": "code",
   "execution_count": null,
   "id": "c00ea80a",
   "metadata": {},
   "outputs": [],
   "source": [
    "fname = './Kody_Pomiary/SEG_IMG_0001.nii.gz'\n",
    "\n",
    "foo = nib.load(fname).get_fdata()\n",
    "\n",
    "print(foo.shape)\n",
    "CImg(foo).display()"
   ]
  },
  {
   "cell_type": "code",
   "execution_count": null,
   "id": "1f29c2c3",
   "metadata": {},
   "outputs": [],
   "source": [
    "labels,_ = ndimage.label(foo)\n",
    "\n",
    "if np.sum(labels) > 0:\n",
    "    props = measure.regionprops(labels)\n",
    "    ids,counts = np.unique(labels,return_counts=True)\n",
    "    \n",
    "    for i,c,regionProp in zip(ids[1:],counts[1:],props):   #bez tła\n",
    "\n",
    "        voxels = np.where(labels==i)\n",
    "        voxels = np.asarray(voxels)\n",
    "        voxels = np.swapaxes(voxels,0,1)\n",
    "        chull = ConvexHull(voxels,qhull_options = 'QJ')\n",
    "\n",
    "        dum = np.zeros(labels.shape,dtype=np.float32)\n",
    "        dum[labels==i] = 1\n",
    "        verts, faces, _, _ = measure.marching_cubes(dum, 0.0)\n",
    "        surf = measure.mesh_surface_area(verts, faces)\n",
    "\n",
    "        print(fname,i, \\\n",
    "                surf, \\\n",
    "                math.pow(3*c/4/math.pi,1/3)/math.pow(surf/4/math.pi,1/2), \\\n",
    "                regionProp.area, \\\n",
    "                regionProp.inertia_tensor_eigvals[0], \\\n",
    "                regionProp.inertia_tensor_eigvals[1], \\\n",
    "                regionProp.inertia_tensor_eigvals[2], \\\n",
    "                regionProp.major_axis_length, regionProp.minor_axis_length, \\\n",
    "                regionProp.bbox_area, \\\n",
    "                regionProp.equivalent_diameter, \\\n",
    "                chull.volume,chull.area)"
   ]
  }
 ],
 "metadata": {
  "kernelspec": {
   "display_name": ".venv",
   "language": "python",
   "name": "python3"
  },
  "language_info": {
   "codemirror_mode": {
    "name": "ipython",
    "version": 3
   },
   "file_extension": ".py",
   "mimetype": "text/x-python",
   "name": "python",
   "nbconvert_exporter": "python",
   "pygments_lexer": "ipython3",
   "version": "3.12.2"
  }
 },
 "nbformat": 4,
 "nbformat_minor": 5
}
